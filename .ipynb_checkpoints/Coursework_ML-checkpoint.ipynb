{
 "cells": [
  {
   "cell_type": "markdown",
   "metadata": {
    "id": "BBv-oIFLVYRz"
   },
   "source": [
    "# Курсовая работа. Блок ML Beginner\n",
    "<br>\n",
    "\n",
    "**NB!** Код должен быть с комментариями к каждому логическому блоку кода. В противном случае работа **не** будет принята. <br><br>\n",
    "Выполнение курсовой работы может потребовать использование дополнительных библиотек. Может потребоваться предварительная обработка данных.\n",
    "\n",
    "<br><br>\n",
    "**Описание работы:**\n",
    "&nbsp;&nbsp;&nbsp;&nbsp;\n",
    "<br><br>\n",
    "&nbsp;&nbsp;&nbsp;&nbsp; Любой бизнес хочет максимизировать количество клиентов. Для достижения этой цели важно не только пытаться привлечь новых, но и удерживать уже существующих. Удержать клиента обойдется компании дешевле, чем привлечь нового. Кроме того, новый клиент может оказаться слабо заинтересованным в услугах бизнеса и с ним будет сложно работать, тогда как о старых клиентах уже есть необходимые данные по взаимодействию с сервисом. \n",
    " <br>\n",
    "\n",
    "&nbsp;&nbsp;&nbsp;&nbsp; Соответственно, прогнозируя отток, мы можем вовремя среагировать и попытаться удержать клиента, который хочет уйти. Опираясь на данные об услугах, которыми пользуется клиент, мы можем сделать ему специальное предложение, пытаясь изменить его решение об уходе от оператора. Благодаря этому задача удержания будет легче в реализации, чем задача привлечения новых пользователей, о которых мы еще ничего не знаем.<br>\n",
    "\n",
    "&nbsp;&nbsp;&nbsp;&nbsp; Вам предоставлен набор данных от телекоммуникационной компании. В данных содержится информация о почти шести тысячах пользователей, их демографических характеристиках, услугах, которыми они пользуются, длительности пользования услугами оператора, методе оплаты, размере оплаты. \n",
    "<br>\n",
    "\n",
    "&nbsp;&nbsp;&nbsp;&nbsp; Cтоит задача проанализировать данные и спрогнозировать отток пользователей (выявить людей, которые продлят контракт и которые не продлят). Работа должна включать в себя следующие обязательные пункты: \n",
    "1. Описание данных *(с расчетом базовых статистик)*, \n",
    "2. Исследование зависимостей и формулирование гипотез, \n",
    "3. Построение моделей для прогнозирования оттока *(с обоснованием выбора той или иной модели)* на основе проверенных гипотез и выявленных взаимосвязей, \n",
    "4. Сравнение качества полученных моделей. \n",
    "\n",
    "Во втором разделе обязательно должно присутствовать обоснование гипотез, подробное описание выявленных взаимосвязей, а также их визуализация. \n",
    "<br>В четвертом дополнительно должны быть сформулированы общие выводы работы.\n",
    "\n",
    "<br><br>\n",
    "\n",
    "_________\n",
    "\n",
    "[Codebook](#Codebook) <br>\n",
    "[1. Описание данных](#1.-Описание-данных)<br>\n",
    "[2. Исследование зависимостей и формулирование гипотез](#2.-Исследование-зависимостей-и-формулирование-гипотез)<br>\n",
    "[3. Построение моделей для прогнозирования оттока](#3.-Построение-моделей-для-прогнозирования-оттока)<br>\n",
    "[4. Сравнение качества моделей](#4.-Сравнение-качества-моделей) <br>\n"
   ]
  },
  {
   "cell_type": "markdown",
   "metadata": {
    "id": "2Eh64LGP5deL"
   },
   "source": []
  },
  {
   "cell_type": "markdown",
   "metadata": {
    "id": "uZY64JwzVYR6"
   },
   "source": [
    "## Codebook\n",
    "<br>\n",
    "\n",
    "[Ссылка для скачивания данных](https://drive.google.com/open?id=1dPCG76ST6NohYKtVMGv6HpFL-jD5p1eJ) \n",
    "<br><br>\n",
    "\n",
    "`telecom_users.csv` содержит следующие значения:<br><br>\n",
    "\n",
    "&nbsp;&nbsp;&nbsp;&nbsp; `customerID` – id клиента<br>\n",
    "&nbsp;&nbsp;&nbsp;&nbsp; `gender` – пол клиента (male/female)<br>\n",
    "&nbsp;&nbsp;&nbsp;&nbsp; `SeniorCitizen` – яляется ли клиент пенсионером (1, 0)<br>\n",
    "&nbsp;&nbsp;&nbsp;&nbsp; `Partner` – состоит ли клиент в браке (Yes, No)<br>\n",
    "&nbsp;&nbsp;&nbsp;&nbsp; `Dependents` – есть ли у клиента иждивенцы (Yes, No)<br>\n",
    "&nbsp;&nbsp;&nbsp;&nbsp; `tenure` – сколько месяцев человек являлся клиентом компании<br>\n",
    "&nbsp;&nbsp;&nbsp;&nbsp; `PhoneService` – подключена ли услуга телефонной связи (Yes, No)<br>\n",
    "&nbsp;&nbsp;&nbsp;&nbsp; `MultipleLines` – подключены ли несколько телефонных линий (Yes, No, No phone service)<br>\n",
    "&nbsp;&nbsp;&nbsp;&nbsp; `InternetService` – интернет-провайдер клиента (DSL, Fiber optic, No)<br>\n",
    "&nbsp;&nbsp;&nbsp;&nbsp; `OnlineSecurity` – подключена ли услуга онлайн-безопасности (Yes, No, No internet service)<br>\n",
    "&nbsp;&nbsp;&nbsp;&nbsp; `OnlineBackup` – подключена ли услуга online backup (Yes, No, No internet service)<br>\n",
    "&nbsp;&nbsp;&nbsp;&nbsp; `DeviceProtection` – есть ли у клиента страховка оборудования (Yes, No, No internet service)<br>\n",
    "&nbsp;&nbsp;&nbsp;&nbsp; `TechSupport` – подключена ли услуга технической поддержки (Yes, No, No internet service)<br>\n",
    "&nbsp;&nbsp;&nbsp;&nbsp; `StreamingTV` – подключена ли услуга стримингового телевидения (Yes, No, No internet service)<br>\n",
    "&nbsp;&nbsp;&nbsp;&nbsp; `StreamingMovies` – подключена ли услуга стримингового кинотеатра (Yes, No, No internet service)<br>\n",
    "&nbsp;&nbsp;&nbsp;&nbsp; `Contract` – тип контракта клиента (Month-to-month, One year, Two year)<br>\n",
    "&nbsp;&nbsp;&nbsp;&nbsp; `PaperlessBilling` – пользуется ли клиент безбумажным биллингом (Yes, No)<br>\n",
    "&nbsp;&nbsp;&nbsp;&nbsp; `PaymentMethod` – метод оплаты (Electronic check, Mailed check, Bank transfer (automatic), Credit card (automatic))<br>\n",
    "&nbsp;&nbsp;&nbsp;&nbsp; `MonthlyCharges` – месячный размер оплаты на настоящий момент<br>\n",
    "&nbsp;&nbsp;&nbsp;&nbsp; `TotalCharges` – общая сумма, которую клиент заплатил за услуги за все время<br>\n",
    "&nbsp;&nbsp;&nbsp;&nbsp; `Churn` – произошел ли отток (Yes or No)<br>"
   ]
  },
  {
   "cell_type": "markdown",
   "metadata": {
    "id": "sIRCLuWGVYR9"
   },
   "source": [
    "# 1. Описание данных"
   ]
  },
  {
   "cell_type": "code",
   "execution_count": 3,
   "metadata": {
    "id": "s0fDRVkgVYSA"
   },
   "outputs": [],
   "source": [
    "import pandas as pd\n",
    "import numpy as np\n",
    "import matplotlib.pyplot as plt\n",
    "import seaborn as sns"
   ]
  },
  {
   "cell_type": "code",
   "execution_count": 17,
   "metadata": {
    "colab": {
     "base_uri": "https://localhost:8080/",
     "height": 313
    },
    "id": "A-IZwhu8mnf9",
    "outputId": "8364db3c-fd0c-4143-8faf-65addb0107ba"
   },
   "outputs": [
    {
     "data": {
      "text/html": [
       "<div>\n",
       "<style scoped>\n",
       "    .dataframe tbody tr th:only-of-type {\n",
       "        vertical-align: middle;\n",
       "    }\n",
       "\n",
       "    .dataframe tbody tr th {\n",
       "        vertical-align: top;\n",
       "    }\n",
       "\n",
       "    .dataframe thead th {\n",
       "        text-align: right;\n",
       "    }\n",
       "</style>\n",
       "<table border=\"1\" class=\"dataframe\">\n",
       "  <thead>\n",
       "    <tr style=\"text-align: right;\">\n",
       "      <th></th>\n",
       "      <th>gender</th>\n",
       "      <th>SeniorCitizen</th>\n",
       "      <th>Partner</th>\n",
       "      <th>Dependents</th>\n",
       "      <th>tenure</th>\n",
       "      <th>PhoneService</th>\n",
       "      <th>MultipleLines</th>\n",
       "      <th>InternetService</th>\n",
       "      <th>OnlineSecurity</th>\n",
       "      <th>OnlineBackup</th>\n",
       "      <th>DeviceProtection</th>\n",
       "      <th>TechSupport</th>\n",
       "      <th>StreamingTV</th>\n",
       "      <th>StreamingMovies</th>\n",
       "      <th>Contract</th>\n",
       "      <th>PaperlessBilling</th>\n",
       "      <th>PaymentMethod</th>\n",
       "      <th>MonthlyCharges</th>\n",
       "      <th>TotalCharges</th>\n",
       "      <th>Churn</th>\n",
       "    </tr>\n",
       "  </thead>\n",
       "  <tbody>\n",
       "    <tr>\n",
       "      <th>1869</th>\n",
       "      <td>Male</td>\n",
       "      <td>0</td>\n",
       "      <td>Yes</td>\n",
       "      <td>Yes</td>\n",
       "      <td>72</td>\n",
       "      <td>Yes</td>\n",
       "      <td>Yes</td>\n",
       "      <td>No</td>\n",
       "      <td>No internet service</td>\n",
       "      <td>No internet service</td>\n",
       "      <td>No internet service</td>\n",
       "      <td>No internet service</td>\n",
       "      <td>No internet service</td>\n",
       "      <td>No internet service</td>\n",
       "      <td>Two year</td>\n",
       "      <td>No</td>\n",
       "      <td>Credit card (automatic)</td>\n",
       "      <td>24.1</td>\n",
       "      <td>1734.65</td>\n",
       "      <td>No</td>\n",
       "    </tr>\n",
       "    <tr>\n",
       "      <th>4528</th>\n",
       "      <td>Female</td>\n",
       "      <td>0</td>\n",
       "      <td>No</td>\n",
       "      <td>No</td>\n",
       "      <td>44</td>\n",
       "      <td>Yes</td>\n",
       "      <td>No</td>\n",
       "      <td>Fiber optic</td>\n",
       "      <td>No</td>\n",
       "      <td>Yes</td>\n",
       "      <td>Yes</td>\n",
       "      <td>No</td>\n",
       "      <td>Yes</td>\n",
       "      <td>No</td>\n",
       "      <td>Month-to-month</td>\n",
       "      <td>Yes</td>\n",
       "      <td>Credit card (automatic)</td>\n",
       "      <td>88.15</td>\n",
       "      <td>3973.2</td>\n",
       "      <td>No</td>\n",
       "    </tr>\n",
       "    <tr>\n",
       "      <th>6344</th>\n",
       "      <td>Female</td>\n",
       "      <td>1</td>\n",
       "      <td>Yes</td>\n",
       "      <td>No</td>\n",
       "      <td>38</td>\n",
       "      <td>Yes</td>\n",
       "      <td>Yes</td>\n",
       "      <td>Fiber optic</td>\n",
       "      <td>No</td>\n",
       "      <td>No</td>\n",
       "      <td>No</td>\n",
       "      <td>No</td>\n",
       "      <td>No</td>\n",
       "      <td>No</td>\n",
       "      <td>Month-to-month</td>\n",
       "      <td>Yes</td>\n",
       "      <td>Bank transfer (automatic)</td>\n",
       "      <td>74.95</td>\n",
       "      <td>2869.85</td>\n",
       "      <td>Yes</td>\n",
       "    </tr>\n",
       "    <tr>\n",
       "      <th>6739</th>\n",
       "      <td>Male</td>\n",
       "      <td>0</td>\n",
       "      <td>No</td>\n",
       "      <td>No</td>\n",
       "      <td>4</td>\n",
       "      <td>Yes</td>\n",
       "      <td>No</td>\n",
       "      <td>DSL</td>\n",
       "      <td>No</td>\n",
       "      <td>No</td>\n",
       "      <td>No</td>\n",
       "      <td>No</td>\n",
       "      <td>No</td>\n",
       "      <td>Yes</td>\n",
       "      <td>Month-to-month</td>\n",
       "      <td>Yes</td>\n",
       "      <td>Electronic check</td>\n",
       "      <td>55.9</td>\n",
       "      <td>238.5</td>\n",
       "      <td>No</td>\n",
       "    </tr>\n",
       "    <tr>\n",
       "      <th>432</th>\n",
       "      <td>Male</td>\n",
       "      <td>0</td>\n",
       "      <td>No</td>\n",
       "      <td>No</td>\n",
       "      <td>2</td>\n",
       "      <td>Yes</td>\n",
       "      <td>No</td>\n",
       "      <td>DSL</td>\n",
       "      <td>Yes</td>\n",
       "      <td>No</td>\n",
       "      <td>Yes</td>\n",
       "      <td>No</td>\n",
       "      <td>No</td>\n",
       "      <td>No</td>\n",
       "      <td>Month-to-month</td>\n",
       "      <td>No</td>\n",
       "      <td>Electronic check</td>\n",
       "      <td>53.45</td>\n",
       "      <td>119.5</td>\n",
       "      <td>No</td>\n",
       "    </tr>\n",
       "  </tbody>\n",
       "</table>\n",
       "</div>"
      ],
      "text/plain": [
       "      gender  SeniorCitizen Partner Dependents  tenure PhoneService  \\\n",
       "1869    Male              0     Yes        Yes      72          Yes   \n",
       "4528  Female              0      No         No      44          Yes   \n",
       "6344  Female              1     Yes         No      38          Yes   \n",
       "6739    Male              0      No         No       4          Yes   \n",
       "432     Male              0      No         No       2          Yes   \n",
       "\n",
       "     MultipleLines InternetService       OnlineSecurity         OnlineBackup  \\\n",
       "1869           Yes              No  No internet service  No internet service   \n",
       "4528            No     Fiber optic                   No                  Yes   \n",
       "6344           Yes     Fiber optic                   No                   No   \n",
       "6739            No             DSL                   No                   No   \n",
       "432             No             DSL                  Yes                   No   \n",
       "\n",
       "         DeviceProtection          TechSupport          StreamingTV  \\\n",
       "1869  No internet service  No internet service  No internet service   \n",
       "4528                  Yes                   No                  Yes   \n",
       "6344                   No                   No                   No   \n",
       "6739                   No                   No                   No   \n",
       "432                   Yes                   No                   No   \n",
       "\n",
       "          StreamingMovies        Contract PaperlessBilling  \\\n",
       "1869  No internet service        Two year               No   \n",
       "4528                   No  Month-to-month              Yes   \n",
       "6344                   No  Month-to-month              Yes   \n",
       "6739                  Yes  Month-to-month              Yes   \n",
       "432                    No  Month-to-month               No   \n",
       "\n",
       "                  PaymentMethod MonthlyCharges TotalCharges Churn  \n",
       "1869    Credit card (automatic)           24.1      1734.65    No  \n",
       "4528    Credit card (automatic)          88.15       3973.2    No  \n",
       "6344  Bank transfer (automatic)          74.95      2869.85   Yes  \n",
       "6739           Electronic check           55.9        238.5    No  \n",
       "432            Electronic check          53.45        119.5    No  "
      ]
     },
     "execution_count": 17,
     "metadata": {},
     "output_type": "execute_result"
    }
   ],
   "source": [
    "data = pd.read_csv('telecom_users.csv', decimal=',', index_col=0)\n",
    "# ID нам бесполезен\n",
    "data = data.drop(['customerID'], axis=1)\n",
    "data.head()"
   ]
  },
  {
   "cell_type": "code",
   "execution_count": 18,
   "metadata": {},
   "outputs": [
    {
     "name": "stdout",
     "output_type": "stream",
     "text": [
      "Общее количество строк -> 5986\n",
      "Общее количество столбцов -> 20\n"
     ]
    }
   ],
   "source": [
    "print('Общее количество строк ->', data.shape[0])\n",
    "print('Общее количество столбцов ->', data.shape[1])"
   ]
  },
  {
   "cell_type": "code",
   "execution_count": 19,
   "metadata": {},
   "outputs": [
    {
     "name": "stdout",
     "output_type": "stream",
     "text": [
      "<class 'pandas.core.frame.DataFrame'>\n",
      "Int64Index: 5986 entries, 1869 to 860\n",
      "Data columns (total 20 columns):\n",
      " #   Column            Non-Null Count  Dtype \n",
      "---  ------            --------------  ----- \n",
      " 0   gender            5986 non-null   object\n",
      " 1   SeniorCitizen     5986 non-null   int64 \n",
      " 2   Partner           5986 non-null   object\n",
      " 3   Dependents        5986 non-null   object\n",
      " 4   tenure            5986 non-null   int64 \n",
      " 5   PhoneService      5986 non-null   object\n",
      " 6   MultipleLines     5986 non-null   object\n",
      " 7   InternetService   5986 non-null   object\n",
      " 8   OnlineSecurity    5986 non-null   object\n",
      " 9   OnlineBackup      5986 non-null   object\n",
      " 10  DeviceProtection  5986 non-null   object\n",
      " 11  TechSupport       5986 non-null   object\n",
      " 12  StreamingTV       5986 non-null   object\n",
      " 13  StreamingMovies   5986 non-null   object\n",
      " 14  Contract          5986 non-null   object\n",
      " 15  PaperlessBilling  5986 non-null   object\n",
      " 16  PaymentMethod     5986 non-null   object\n",
      " 17  MonthlyCharges    5986 non-null   object\n",
      " 18  TotalCharges      5986 non-null   object\n",
      " 19  Churn             5986 non-null   object\n",
      "dtypes: int64(2), object(18)\n",
      "memory usage: 982.1+ KB\n"
     ]
    }
   ],
   "source": [
    "# В данном датасете нету пропущенных значений\n",
    "data.info()"
   ]
  },
  {
   "cell_type": "code",
   "execution_count": null,
   "metadata": {},
   "outputs": [],
   "source": [
    "pd.to"
   ]
  },
  {
   "cell_type": "code",
   "execution_count": 151,
   "metadata": {},
   "outputs": [
    {
     "name": "stdout",
     "output_type": "stream",
     "text": [
      "<class 'pandas.core.frame.DataFrame'>\n",
      "Int64Index: 5986 entries, 1869 to 860\n",
      "Data columns (total 20 columns):\n",
      " #   Column            Non-Null Count  Dtype  \n",
      "---  ------            --------------  -----  \n",
      " 0   gender            5986 non-null   object \n",
      " 1   SeniorCitizen     5986 non-null   object \n",
      " 2   Partner           5986 non-null   object \n",
      " 3   Dependents        5986 non-null   object \n",
      " 4   tenure            5986 non-null   int64  \n",
      " 5   PhoneService      5986 non-null   object \n",
      " 6   MultipleLines     5986 non-null   object \n",
      " 7   InternetService   5986 non-null   object \n",
      " 8   OnlineSecurity    5986 non-null   object \n",
      " 9   OnlineBackup      5986 non-null   object \n",
      " 10  DeviceProtection  5986 non-null   object \n",
      " 11  TechSupport       5986 non-null   object \n",
      " 12  StreamingTV       5986 non-null   object \n",
      " 13  StreamingMovies   5986 non-null   object \n",
      " 14  Contract          5986 non-null   object \n",
      " 15  PaperlessBilling  5986 non-null   object \n",
      " 16  PaymentMethod     5986 non-null   object \n",
      " 17  MonthlyCharges    5986 non-null   float64\n",
      " 18  TotalCharges      5976 non-null   float64\n",
      " 19  Churn             5986 non-null   object \n",
      "dtypes: float64(2), int64(1), object(17)\n",
      "memory usage: 1.1+ MB\n"
     ]
    }
   ],
   "source": [
    "source_df = data.copy()\n",
    "# MonthlyCharges и TotalCharges имеют тип object, а SeniorCitizen наоборот имеет тип int64, так что исправм это\n",
    "def change_type(dataset, feature_cols, type_to_change):\n",
    "    \"\"\"\n",
    "    Изменим тип фич на требуемый нам\n",
    "    dataset (DataFrame): DataFrame где необходимо поменять тип\n",
    "    feature_cols (list) : список необходимых фич\n",
    "    type_to_change: требуемый тип данных\n",
    "    \"\"\"\n",
    "    if type_to_change == 'object':\n",
    "        for col in feature_cols:\n",
    "            dataset[col] = dataset[col].astype('object')\n",
    "    elif type_to_change in ['int64', 'int32', 'int', 'float']:\n",
    "        for col in feature_cols:\n",
    "            dataset[col] = pd.to_numeric(dataset[col], errors='coerce')\n",
    "    else:\n",
    "        raise TypeError('Для этой курсовой только в эти типы преобразуем =)')\n",
    "    \n",
    "    return dataset\n",
    "\n",
    "change_type(source_df, ['TotalCharges', 'MonthlyCharges'], 'int')\n",
    "change_type(source_df, ['SeniorCitizen'], 'object')\n",
    "source_df.info()"
   ]
  },
  {
   "cell_type": "code",
   "execution_count": 51,
   "metadata": {},
   "outputs": [
    {
     "name": "stdout",
     "output_type": "stream",
     "text": [
      "Категориальные признаки -> ['gender', 'SeniorCitizen', 'Partner', 'Dependents', 'PhoneService', 'MultipleLines', 'InternetService', 'OnlineSecurity', 'OnlineBackup', 'DeviceProtection', 'TechSupport', 'StreamingTV', 'StreamingMovies', 'Contract', 'PaperlessBilling', 'PaymentMethod', 'Churn']\n",
      "\n",
      "Количественные признаки -> ['tenure', 'MonthlyCharges', 'TotalCharges']\n"
     ]
    }
   ],
   "source": [
    "cat_columns = source_df.columns[source_df.dtypes == 'object'].tolist()\n",
    "num_columns = source_df.columns[source_df.dtypes != 'object'].tolist()\n",
    "print('Категориальные признаки ->', cat_columns)\n",
    "print('')\n",
    "print('Количественные признаки ->', num_columns)"
   ]
  },
  {
   "cell_type": "code",
   "execution_count": 57,
   "metadata": {},
   "outputs": [
    {
     "data": {
      "text/html": [
       "<div>\n",
       "<style scoped>\n",
       "    .dataframe tbody tr th:only-of-type {\n",
       "        vertical-align: middle;\n",
       "    }\n",
       "\n",
       "    .dataframe tbody tr th {\n",
       "        vertical-align: top;\n",
       "    }\n",
       "\n",
       "    .dataframe thead th {\n",
       "        text-align: right;\n",
       "    }\n",
       "</style>\n",
       "<table border=\"1\" class=\"dataframe\">\n",
       "  <thead>\n",
       "    <tr style=\"text-align: right;\">\n",
       "      <th></th>\n",
       "      <th>gender</th>\n",
       "      <th>SeniorCitizen</th>\n",
       "      <th>Partner</th>\n",
       "      <th>Dependents</th>\n",
       "      <th>tenure</th>\n",
       "      <th>PhoneService</th>\n",
       "      <th>MultipleLines</th>\n",
       "      <th>InternetService</th>\n",
       "      <th>OnlineSecurity</th>\n",
       "      <th>OnlineBackup</th>\n",
       "      <th>DeviceProtection</th>\n",
       "      <th>TechSupport</th>\n",
       "      <th>StreamingTV</th>\n",
       "      <th>StreamingMovies</th>\n",
       "      <th>Contract</th>\n",
       "      <th>PaperlessBilling</th>\n",
       "      <th>PaymentMethod</th>\n",
       "      <th>MonthlyCharges</th>\n",
       "      <th>TotalCharges</th>\n",
       "      <th>Churn</th>\n",
       "    </tr>\n",
       "  </thead>\n",
       "  <tbody>\n",
       "    <tr>\n",
       "      <th>6754</th>\n",
       "      <td>Male</td>\n",
       "      <td>0</td>\n",
       "      <td>No</td>\n",
       "      <td>Yes</td>\n",
       "      <td>0</td>\n",
       "      <td>Yes</td>\n",
       "      <td>Yes</td>\n",
       "      <td>DSL</td>\n",
       "      <td>Yes</td>\n",
       "      <td>Yes</td>\n",
       "      <td>No</td>\n",
       "      <td>Yes</td>\n",
       "      <td>No</td>\n",
       "      <td>No</td>\n",
       "      <td>Two year</td>\n",
       "      <td>Yes</td>\n",
       "      <td>Bank transfer (automatic)</td>\n",
       "      <td>61.90</td>\n",
       "      <td>NaN</td>\n",
       "      <td>No</td>\n",
       "    </tr>\n",
       "    <tr>\n",
       "      <th>1340</th>\n",
       "      <td>Female</td>\n",
       "      <td>0</td>\n",
       "      <td>Yes</td>\n",
       "      <td>Yes</td>\n",
       "      <td>0</td>\n",
       "      <td>No</td>\n",
       "      <td>No phone service</td>\n",
       "      <td>DSL</td>\n",
       "      <td>Yes</td>\n",
       "      <td>Yes</td>\n",
       "      <td>Yes</td>\n",
       "      <td>Yes</td>\n",
       "      <td>Yes</td>\n",
       "      <td>No</td>\n",
       "      <td>Two year</td>\n",
       "      <td>No</td>\n",
       "      <td>Credit card (automatic)</td>\n",
       "      <td>56.05</td>\n",
       "      <td>NaN</td>\n",
       "      <td>No</td>\n",
       "    </tr>\n",
       "    <tr>\n",
       "      <th>3826</th>\n",
       "      <td>Male</td>\n",
       "      <td>0</td>\n",
       "      <td>Yes</td>\n",
       "      <td>Yes</td>\n",
       "      <td>0</td>\n",
       "      <td>Yes</td>\n",
       "      <td>Yes</td>\n",
       "      <td>No</td>\n",
       "      <td>No internet service</td>\n",
       "      <td>No internet service</td>\n",
       "      <td>No internet service</td>\n",
       "      <td>No internet service</td>\n",
       "      <td>No internet service</td>\n",
       "      <td>No internet service</td>\n",
       "      <td>Two year</td>\n",
       "      <td>No</td>\n",
       "      <td>Mailed check</td>\n",
       "      <td>25.35</td>\n",
       "      <td>NaN</td>\n",
       "      <td>No</td>\n",
       "    </tr>\n",
       "    <tr>\n",
       "      <th>5218</th>\n",
       "      <td>Male</td>\n",
       "      <td>0</td>\n",
       "      <td>Yes</td>\n",
       "      <td>Yes</td>\n",
       "      <td>0</td>\n",
       "      <td>Yes</td>\n",
       "      <td>No</td>\n",
       "      <td>No</td>\n",
       "      <td>No internet service</td>\n",
       "      <td>No internet service</td>\n",
       "      <td>No internet service</td>\n",
       "      <td>No internet service</td>\n",
       "      <td>No internet service</td>\n",
       "      <td>No internet service</td>\n",
       "      <td>One year</td>\n",
       "      <td>Yes</td>\n",
       "      <td>Mailed check</td>\n",
       "      <td>19.70</td>\n",
       "      <td>NaN</td>\n",
       "      <td>No</td>\n",
       "    </tr>\n",
       "    <tr>\n",
       "      <th>3331</th>\n",
       "      <td>Male</td>\n",
       "      <td>0</td>\n",
       "      <td>Yes</td>\n",
       "      <td>Yes</td>\n",
       "      <td>0</td>\n",
       "      <td>Yes</td>\n",
       "      <td>No</td>\n",
       "      <td>No</td>\n",
       "      <td>No internet service</td>\n",
       "      <td>No internet service</td>\n",
       "      <td>No internet service</td>\n",
       "      <td>No internet service</td>\n",
       "      <td>No internet service</td>\n",
       "      <td>No internet service</td>\n",
       "      <td>Two year</td>\n",
       "      <td>No</td>\n",
       "      <td>Mailed check</td>\n",
       "      <td>19.85</td>\n",
       "      <td>NaN</td>\n",
       "      <td>No</td>\n",
       "    </tr>\n",
       "    <tr>\n",
       "      <th>936</th>\n",
       "      <td>Female</td>\n",
       "      <td>0</td>\n",
       "      <td>Yes</td>\n",
       "      <td>Yes</td>\n",
       "      <td>0</td>\n",
       "      <td>Yes</td>\n",
       "      <td>No</td>\n",
       "      <td>DSL</td>\n",
       "      <td>Yes</td>\n",
       "      <td>Yes</td>\n",
       "      <td>Yes</td>\n",
       "      <td>No</td>\n",
       "      <td>Yes</td>\n",
       "      <td>Yes</td>\n",
       "      <td>Two year</td>\n",
       "      <td>No</td>\n",
       "      <td>Mailed check</td>\n",
       "      <td>80.85</td>\n",
       "      <td>NaN</td>\n",
       "      <td>No</td>\n",
       "    </tr>\n",
       "    <tr>\n",
       "      <th>753</th>\n",
       "      <td>Male</td>\n",
       "      <td>0</td>\n",
       "      <td>No</td>\n",
       "      <td>Yes</td>\n",
       "      <td>0</td>\n",
       "      <td>Yes</td>\n",
       "      <td>No</td>\n",
       "      <td>No</td>\n",
       "      <td>No internet service</td>\n",
       "      <td>No internet service</td>\n",
       "      <td>No internet service</td>\n",
       "      <td>No internet service</td>\n",
       "      <td>No internet service</td>\n",
       "      <td>No internet service</td>\n",
       "      <td>Two year</td>\n",
       "      <td>No</td>\n",
       "      <td>Mailed check</td>\n",
       "      <td>20.25</td>\n",
       "      <td>NaN</td>\n",
       "      <td>No</td>\n",
       "    </tr>\n",
       "    <tr>\n",
       "      <th>4380</th>\n",
       "      <td>Female</td>\n",
       "      <td>0</td>\n",
       "      <td>Yes</td>\n",
       "      <td>Yes</td>\n",
       "      <td>0</td>\n",
       "      <td>Yes</td>\n",
       "      <td>No</td>\n",
       "      <td>No</td>\n",
       "      <td>No internet service</td>\n",
       "      <td>No internet service</td>\n",
       "      <td>No internet service</td>\n",
       "      <td>No internet service</td>\n",
       "      <td>No internet service</td>\n",
       "      <td>No internet service</td>\n",
       "      <td>Two year</td>\n",
       "      <td>No</td>\n",
       "      <td>Mailed check</td>\n",
       "      <td>20.00</td>\n",
       "      <td>NaN</td>\n",
       "      <td>No</td>\n",
       "    </tr>\n",
       "    <tr>\n",
       "      <th>488</th>\n",
       "      <td>Female</td>\n",
       "      <td>0</td>\n",
       "      <td>Yes</td>\n",
       "      <td>Yes</td>\n",
       "      <td>0</td>\n",
       "      <td>No</td>\n",
       "      <td>No phone service</td>\n",
       "      <td>DSL</td>\n",
       "      <td>Yes</td>\n",
       "      <td>No</td>\n",
       "      <td>Yes</td>\n",
       "      <td>Yes</td>\n",
       "      <td>Yes</td>\n",
       "      <td>No</td>\n",
       "      <td>Two year</td>\n",
       "      <td>Yes</td>\n",
       "      <td>Bank transfer (automatic)</td>\n",
       "      <td>52.55</td>\n",
       "      <td>NaN</td>\n",
       "      <td>No</td>\n",
       "    </tr>\n",
       "    <tr>\n",
       "      <th>1082</th>\n",
       "      <td>Male</td>\n",
       "      <td>0</td>\n",
       "      <td>Yes</td>\n",
       "      <td>Yes</td>\n",
       "      <td>0</td>\n",
       "      <td>Yes</td>\n",
       "      <td>Yes</td>\n",
       "      <td>No</td>\n",
       "      <td>No internet service</td>\n",
       "      <td>No internet service</td>\n",
       "      <td>No internet service</td>\n",
       "      <td>No internet service</td>\n",
       "      <td>No internet service</td>\n",
       "      <td>No internet service</td>\n",
       "      <td>Two year</td>\n",
       "      <td>No</td>\n",
       "      <td>Mailed check</td>\n",
       "      <td>25.75</td>\n",
       "      <td>NaN</td>\n",
       "      <td>No</td>\n",
       "    </tr>\n",
       "  </tbody>\n",
       "</table>\n",
       "</div>"
      ],
      "text/plain": [
       "      gender SeniorCitizen Partner Dependents  tenure PhoneService  \\\n",
       "6754    Male             0      No        Yes       0          Yes   \n",
       "1340  Female             0     Yes        Yes       0           No   \n",
       "3826    Male             0     Yes        Yes       0          Yes   \n",
       "5218    Male             0     Yes        Yes       0          Yes   \n",
       "3331    Male             0     Yes        Yes       0          Yes   \n",
       "936   Female             0     Yes        Yes       0          Yes   \n",
       "753     Male             0      No        Yes       0          Yes   \n",
       "4380  Female             0     Yes        Yes       0          Yes   \n",
       "488   Female             0     Yes        Yes       0           No   \n",
       "1082    Male             0     Yes        Yes       0          Yes   \n",
       "\n",
       "         MultipleLines InternetService       OnlineSecurity  \\\n",
       "6754               Yes             DSL                  Yes   \n",
       "1340  No phone service             DSL                  Yes   \n",
       "3826               Yes              No  No internet service   \n",
       "5218                No              No  No internet service   \n",
       "3331                No              No  No internet service   \n",
       "936                 No             DSL                  Yes   \n",
       "753                 No              No  No internet service   \n",
       "4380                No              No  No internet service   \n",
       "488   No phone service             DSL                  Yes   \n",
       "1082               Yes              No  No internet service   \n",
       "\n",
       "             OnlineBackup     DeviceProtection          TechSupport  \\\n",
       "6754                  Yes                   No                  Yes   \n",
       "1340                  Yes                  Yes                  Yes   \n",
       "3826  No internet service  No internet service  No internet service   \n",
       "5218  No internet service  No internet service  No internet service   \n",
       "3331  No internet service  No internet service  No internet service   \n",
       "936                   Yes                  Yes                   No   \n",
       "753   No internet service  No internet service  No internet service   \n",
       "4380  No internet service  No internet service  No internet service   \n",
       "488                    No                  Yes                  Yes   \n",
       "1082  No internet service  No internet service  No internet service   \n",
       "\n",
       "              StreamingTV      StreamingMovies  Contract PaperlessBilling  \\\n",
       "6754                   No                   No  Two year              Yes   \n",
       "1340                  Yes                   No  Two year               No   \n",
       "3826  No internet service  No internet service  Two year               No   \n",
       "5218  No internet service  No internet service  One year              Yes   \n",
       "3331  No internet service  No internet service  Two year               No   \n",
       "936                   Yes                  Yes  Two year               No   \n",
       "753   No internet service  No internet service  Two year               No   \n",
       "4380  No internet service  No internet service  Two year               No   \n",
       "488                   Yes                   No  Two year              Yes   \n",
       "1082  No internet service  No internet service  Two year               No   \n",
       "\n",
       "                  PaymentMethod  MonthlyCharges  TotalCharges Churn  \n",
       "6754  Bank transfer (automatic)           61.90           NaN    No  \n",
       "1340    Credit card (automatic)           56.05           NaN    No  \n",
       "3826               Mailed check           25.35           NaN    No  \n",
       "5218               Mailed check           19.70           NaN    No  \n",
       "3331               Mailed check           19.85           NaN    No  \n",
       "936                Mailed check           80.85           NaN    No  \n",
       "753                Mailed check           20.25           NaN    No  \n",
       "4380               Mailed check           20.00           NaN    No  \n",
       "488   Bank transfer (automatic)           52.55           NaN    No  \n",
       "1082               Mailed check           25.75           NaN    No  "
      ]
     },
     "execution_count": 57,
     "metadata": {},
     "output_type": "execute_result"
    }
   ],
   "source": [
    "# Можем заметить, что в колонке TotalCharges появилось 10 пустых значений, взглянем на них\n",
    "source_df[source_df['TotalCharges'].isna()]"
   ]
  },
  {
   "cell_type": "code",
   "execution_count": 60,
   "metadata": {},
   "outputs": [
    {
     "name": "stdout",
     "output_type": "stream",
     "text": [
      "Пропущенных значений в TotalCharges:  0\n"
     ]
    }
   ],
   "source": [
    "# Заполняем нулями пропущенные значения (до этого я так понимаю это были отсутсввующие значения, не 0)\n",
    "source_df['TotalCharges'].fillna(0, inplace=True)\n",
    "print('Пропущенных значений в TotalCharges: ', source_df['TotalCharges'].isna().sum())"
   ]
  },
  {
   "cell_type": "code",
   "execution_count": 122,
   "metadata": {},
   "outputs": [
    {
     "data": {
      "image/png": "[encoded data removed]",
      "text/plain": [
       "<Figure size 1080x2160 with 17 Axes>"
      ]
     },
     "metadata": {},
     "output_type": "display_data"
    }
   ],
   "source": [
    "# Взглянем на категориальные данные\n",
    "fig, ax = plt.subplots(6, 3, figsize=(15, 30))\n",
    "count = 0\n",
    "for x_dim in range(6):\n",
    "    for y_dim in range(3):\n",
    "        df_tmp = source_df[cat_columns[count]].value_counts()\n",
    "        ax[x_dim, y_dim].pie(df_tmp, labels=df_tmp.index, autopct='%1.1f%%')\n",
    "        ax[x_dim, y_dim].set_title(cat_columns[count])\n",
    "        count += 1\n",
    "        if count > len(cat_columns) - 1:\n",
    "            break\n",
    "            \n",
    "plt.suptitle(\"Распределение данных для категориальных фич\", fontsize=20,  x=.5,y=.9)\n",
    "del df_tmp\n",
    "ax[5,2].remove()\n",
    "plt.show()"
   ]
  },
  {
   "cell_type": "code",
   "execution_count": 119,
   "metadata": {},
   "outputs": [],
   "source": [
    "# Ушедших пользователей всего 26.5% -> датасет не сбалансирован"
   ]
  },
  {
   "cell_type": "code",
   "execution_count": 120,
   "metadata": {},
   "outputs": [
    {
     "data": {
      "image/png": "[encoded data removed]",
      "text/plain": [
       "<Figure size 1080x216 with 3 Axes>"
      ]
     },
     "metadata": {
      "needs_background": "light"
     },
     "output_type": "display_data"
    }
   ],
   "source": [
    "# Теперь посмотрим на распределение численных фич\n",
    "fig, ax = plt.subplots(1,3, figsize=(15,3))\n",
    "counter = 0\n",
    "for col in source_df[num_columns]:\n",
    "    sns.histplot(source_df[col],kde=True, bins=30, ax=ax[counter], label=col, alpha=0.9)\n",
    "    counter+=1\n"
   ]
  },
  {
   "cell_type": "code",
   "execution_count": 121,
   "metadata": {},
   "outputs": [],
   "source": [
    "# Никакая из величин не имеет нормального распределения, tenure похож на бимодальное распределение,\n",
    "# а TotalCharges имеет длинных хвост"
   ]
  },
  {
   "cell_type": "markdown",
   "metadata": {},
   "source": [
    "# 2. Исследование зависимостей и формулирование гипотез"
   ]
  },
  {
   "cell_type": "code",
   "execution_count": 143,
   "metadata": {},
   "outputs": [
    {
     "data": {
      "image/png": "[encoded data removed]",
      "text/plain": [
       "<Figure size 1152x2160 with 16 Axes>"
      ]
     },
     "metadata": {
      "needs_background": "light"
     },
     "output_type": "display_data"
    }
   ],
   "source": [
    "# Для начала взглянем на зависимость оттока от категориальных признаков\n",
    "fig, ax = plt.subplots(8, 2, figsize=(16, 30))\n",
    "count = 0\n",
    "for x_dim in range(8):\n",
    "    for y_dim in range(2):\n",
    "        sns.countplot(data=source_df, x=cat_columns[count], hue='Churn',\n",
    "                       ax=ax[x_dim,y_dim], palette=\"Set1\")\n",
    "        count += 1\n",
    "plt.show()"
   ]
  },
  {
   "cell_type": "code",
   "execution_count": 146,
   "metadata": {},
   "outputs": [
    {
     "data": {
      "text/html": [
       "<div>\n",
       "<style scoped>\n",
       "    .dataframe tbody tr th:only-of-type {\n",
       "        vertical-align: middle;\n",
       "    }\n",
       "\n",
       "    .dataframe tbody tr th {\n",
       "        vertical-align: top;\n",
       "    }\n",
       "\n",
       "    .dataframe thead th {\n",
       "        text-align: right;\n",
       "    }\n",
       "</style>\n",
       "<table border=\"1\" class=\"dataframe\">\n",
       "  <thead>\n",
       "    <tr style=\"text-align: right;\">\n",
       "      <th></th>\n",
       "      <th>gender</th>\n",
       "      <th>SeniorCitizen</th>\n",
       "      <th>Partner</th>\n",
       "      <th>Dependents</th>\n",
       "      <th>tenure</th>\n",
       "      <th>PhoneService</th>\n",
       "      <th>MultipleLines</th>\n",
       "      <th>InternetService</th>\n",
       "      <th>OnlineSecurity</th>\n",
       "      <th>OnlineBackup</th>\n",
       "      <th>DeviceProtection</th>\n",
       "      <th>TechSupport</th>\n",
       "      <th>StreamingTV</th>\n",
       "      <th>StreamingMovies</th>\n",
       "      <th>Contract</th>\n",
       "      <th>PaperlessBilling</th>\n",
       "      <th>PaymentMethod</th>\n",
       "      <th>MonthlyCharges</th>\n",
       "      <th>TotalCharges</th>\n",
       "      <th>Churn</th>\n",
       "    </tr>\n",
       "  </thead>\n",
       "  <tbody>\n",
       "    <tr>\n",
       "      <th>1869</th>\n",
       "      <td>Male</td>\n",
       "      <td>0</td>\n",
       "      <td>Yes</td>\n",
       "      <td>Yes</td>\n",
       "      <td>72</td>\n",
       "      <td>Yes</td>\n",
       "      <td>Yes</td>\n",
       "      <td>No</td>\n",
       "      <td>No internet service</td>\n",
       "      <td>No internet service</td>\n",
       "      <td>No internet service</td>\n",
       "      <td>No internet service</td>\n",
       "      <td>No internet service</td>\n",
       "      <td>No internet service</td>\n",
       "      <td>Two year</td>\n",
       "      <td>No</td>\n",
       "      <td>Credit card (automatic)</td>\n",
       "      <td>24.10</td>\n",
       "      <td>1734.65</td>\n",
       "      <td>No</td>\n",
       "    </tr>\n",
       "    <tr>\n",
       "      <th>4528</th>\n",
       "      <td>Female</td>\n",
       "      <td>0</td>\n",
       "      <td>No</td>\n",
       "      <td>No</td>\n",
       "      <td>44</td>\n",
       "      <td>Yes</td>\n",
       "      <td>No</td>\n",
       "      <td>Fiber optic</td>\n",
       "      <td>No</td>\n",
       "      <td>Yes</td>\n",
       "      <td>Yes</td>\n",
       "      <td>No</td>\n",
       "      <td>Yes</td>\n",
       "      <td>No</td>\n",
       "      <td>Month-to-month</td>\n",
       "      <td>Yes</td>\n",
       "      <td>Credit card (automatic)</td>\n",
       "      <td>88.15</td>\n",
       "      <td>3973.20</td>\n",
       "      <td>No</td>\n",
       "    </tr>\n",
       "    <tr>\n",
       "      <th>6344</th>\n",
       "      <td>Female</td>\n",
       "      <td>1</td>\n",
       "      <td>Yes</td>\n",
       "      <td>No</td>\n",
       "      <td>38</td>\n",
       "      <td>Yes</td>\n",
       "      <td>Yes</td>\n",
       "      <td>Fiber optic</td>\n",
       "      <td>No</td>\n",
       "      <td>No</td>\n",
       "      <td>No</td>\n",
       "      <td>No</td>\n",
       "      <td>No</td>\n",
       "      <td>No</td>\n",
       "      <td>Month-to-month</td>\n",
       "      <td>Yes</td>\n",
       "      <td>Bank transfer (automatic)</td>\n",
       "      <td>74.95</td>\n",
       "      <td>2869.85</td>\n",
       "      <td>Yes</td>\n",
       "    </tr>\n",
       "    <tr>\n",
       "      <th>6739</th>\n",
       "      <td>Male</td>\n",
       "      <td>0</td>\n",
       "      <td>No</td>\n",
       "      <td>No</td>\n",
       "      <td>4</td>\n",
       "      <td>Yes</td>\n",
       "      <td>No</td>\n",
       "      <td>DSL</td>\n",
       "      <td>No</td>\n",
       "      <td>No</td>\n",
       "      <td>No</td>\n",
       "      <td>No</td>\n",
       "      <td>No</td>\n",
       "      <td>Yes</td>\n",
       "      <td>Month-to-month</td>\n",
       "      <td>Yes</td>\n",
       "      <td>Electronic check</td>\n",
       "      <td>55.90</td>\n",
       "      <td>238.50</td>\n",
       "      <td>No</td>\n",
       "    </tr>\n",
       "    <tr>\n",
       "      <th>432</th>\n",
       "      <td>Male</td>\n",
       "      <td>0</td>\n",
       "      <td>No</td>\n",
       "      <td>No</td>\n",
       "      <td>2</td>\n",
       "      <td>Yes</td>\n",
       "      <td>No</td>\n",
       "      <td>DSL</td>\n",
       "      <td>Yes</td>\n",
       "      <td>No</td>\n",
       "      <td>Yes</td>\n",
       "      <td>No</td>\n",
       "      <td>No</td>\n",
       "      <td>No</td>\n",
       "      <td>Month-to-month</td>\n",
       "      <td>No</td>\n",
       "      <td>Electronic check</td>\n",
       "      <td>53.45</td>\n",
       "      <td>119.50</td>\n",
       "      <td>No</td>\n",
       "    </tr>\n",
       "    <tr>\n",
       "      <th>...</th>\n",
       "      <td>...</td>\n",
       "      <td>...</td>\n",
       "      <td>...</td>\n",
       "      <td>...</td>\n",
       "      <td>...</td>\n",
       "      <td>...</td>\n",
       "      <td>...</td>\n",
       "      <td>...</td>\n",
       "      <td>...</td>\n",
       "      <td>...</td>\n",
       "      <td>...</td>\n",
       "      <td>...</td>\n",
       "      <td>...</td>\n",
       "      <td>...</td>\n",
       "      <td>...</td>\n",
       "      <td>...</td>\n",
       "      <td>...</td>\n",
       "      <td>...</td>\n",
       "      <td>...</td>\n",
       "      <td>...</td>\n",
       "    </tr>\n",
       "    <tr>\n",
       "      <th>3772</th>\n",
       "      <td>Male</td>\n",
       "      <td>0</td>\n",
       "      <td>Yes</td>\n",
       "      <td>No</td>\n",
       "      <td>1</td>\n",
       "      <td>Yes</td>\n",
       "      <td>No</td>\n",
       "      <td>Fiber optic</td>\n",
       "      <td>Yes</td>\n",
       "      <td>No</td>\n",
       "      <td>No</td>\n",
       "      <td>No</td>\n",
       "      <td>Yes</td>\n",
       "      <td>Yes</td>\n",
       "      <td>Month-to-month</td>\n",
       "      <td>Yes</td>\n",
       "      <td>Electronic check</td>\n",
       "      <td>95.00</td>\n",
       "      <td>95.00</td>\n",
       "      <td>Yes</td>\n",
       "    </tr>\n",
       "    <tr>\n",
       "      <th>5191</th>\n",
       "      <td>Female</td>\n",
       "      <td>0</td>\n",
       "      <td>Yes</td>\n",
       "      <td>Yes</td>\n",
       "      <td>23</td>\n",
       "      <td>Yes</td>\n",
       "      <td>Yes</td>\n",
       "      <td>DSL</td>\n",
       "      <td>Yes</td>\n",
       "      <td>Yes</td>\n",
       "      <td>Yes</td>\n",
       "      <td>Yes</td>\n",
       "      <td>Yes</td>\n",
       "      <td>Yes</td>\n",
       "      <td>Two year</td>\n",
       "      <td>Yes</td>\n",
       "      <td>Credit card (automatic)</td>\n",
       "      <td>91.10</td>\n",
       "      <td>2198.30</td>\n",
       "      <td>No</td>\n",
       "    </tr>\n",
       "    <tr>\n",
       "      <th>5226</th>\n",
       "      <td>Male</td>\n",
       "      <td>0</td>\n",
       "      <td>Yes</td>\n",
       "      <td>Yes</td>\n",
       "      <td>12</td>\n",
       "      <td>Yes</td>\n",
       "      <td>No</td>\n",
       "      <td>No</td>\n",
       "      <td>No internet service</td>\n",
       "      <td>No internet service</td>\n",
       "      <td>No internet service</td>\n",
       "      <td>No internet service</td>\n",
       "      <td>No internet service</td>\n",
       "      <td>No internet service</td>\n",
       "      <td>Month-to-month</td>\n",
       "      <td>Yes</td>\n",
       "      <td>Electronic check</td>\n",
       "      <td>21.15</td>\n",
       "      <td>306.05</td>\n",
       "      <td>No</td>\n",
       "    </tr>\n",
       "    <tr>\n",
       "      <th>5390</th>\n",
       "      <td>Male</td>\n",
       "      <td>1</td>\n",
       "      <td>No</td>\n",
       "      <td>No</td>\n",
       "      <td>12</td>\n",
       "      <td>Yes</td>\n",
       "      <td>Yes</td>\n",
       "      <td>Fiber optic</td>\n",
       "      <td>No</td>\n",
       "      <td>No</td>\n",
       "      <td>Yes</td>\n",
       "      <td>No</td>\n",
       "      <td>Yes</td>\n",
       "      <td>Yes</td>\n",
       "      <td>Month-to-month</td>\n",
       "      <td>Yes</td>\n",
       "      <td>Electronic check</td>\n",
       "      <td>99.45</td>\n",
       "      <td>1200.15</td>\n",
       "      <td>Yes</td>\n",
       "    </tr>\n",
       "    <tr>\n",
       "      <th>860</th>\n",
       "      <td>Male</td>\n",
       "      <td>0</td>\n",
       "      <td>No</td>\n",
       "      <td>No</td>\n",
       "      <td>26</td>\n",
       "      <td>Yes</td>\n",
       "      <td>No</td>\n",
       "      <td>No</td>\n",
       "      <td>No internet service</td>\n",
       "      <td>No internet service</td>\n",
       "      <td>No internet service</td>\n",
       "      <td>No internet service</td>\n",
       "      <td>No internet service</td>\n",
       "      <td>No internet service</td>\n",
       "      <td>One year</td>\n",
       "      <td>No</td>\n",
       "      <td>Credit card (automatic)</td>\n",
       "      <td>19.80</td>\n",
       "      <td>457.30</td>\n",
       "      <td>No</td>\n",
       "    </tr>\n",
       "  </tbody>\n",
       "</table>\n",
       "<p>5986 rows × 20 columns</p>\n",
       "</div>"
      ],
      "text/plain": [
       "      gender SeniorCitizen Partner Dependents  tenure PhoneService  \\\n",
       "1869    Male             0     Yes        Yes      72          Yes   \n",
       "4528  Female             0      No         No      44          Yes   \n",
       "6344  Female             1     Yes         No      38          Yes   \n",
       "6739    Male             0      No         No       4          Yes   \n",
       "432     Male             0      No         No       2          Yes   \n",
       "...      ...           ...     ...        ...     ...          ...   \n",
       "3772    Male             0     Yes         No       1          Yes   \n",
       "5191  Female             0     Yes        Yes      23          Yes   \n",
       "5226    Male             0     Yes        Yes      12          Yes   \n",
       "5390    Male             1      No         No      12          Yes   \n",
       "860     Male             0      No         No      26          Yes   \n",
       "\n",
       "     MultipleLines InternetService       OnlineSecurity         OnlineBackup  \\\n",
       "1869           Yes              No  No internet service  No internet service   \n",
       "4528            No     Fiber optic                   No                  Yes   \n",
       "6344           Yes     Fiber optic                   No                   No   \n",
       "6739            No             DSL                   No                   No   \n",
       "432             No             DSL                  Yes                   No   \n",
       "...            ...             ...                  ...                  ...   \n",
       "3772            No     Fiber optic                  Yes                   No   \n",
       "5191           Yes             DSL                  Yes                  Yes   \n",
       "5226            No              No  No internet service  No internet service   \n",
       "5390           Yes     Fiber optic                   No                   No   \n",
       "860             No              No  No internet service  No internet service   \n",
       "\n",
       "         DeviceProtection          TechSupport          StreamingTV  \\\n",
       "1869  No internet service  No internet service  No internet service   \n",
       "4528                  Yes                   No                  Yes   \n",
       "6344                   No                   No                   No   \n",
       "6739                   No                   No                   No   \n",
       "432                   Yes                   No                   No   \n",
       "...                   ...                  ...                  ...   \n",
       "3772                   No                   No                  Yes   \n",
       "5191                  Yes                  Yes                  Yes   \n",
       "5226  No internet service  No internet service  No internet service   \n",
       "5390                  Yes                   No                  Yes   \n",
       "860   No internet service  No internet service  No internet service   \n",
       "\n",
       "          StreamingMovies        Contract PaperlessBilling  \\\n",
       "1869  No internet service        Two year               No   \n",
       "4528                   No  Month-to-month              Yes   \n",
       "6344                   No  Month-to-month              Yes   \n",
       "6739                  Yes  Month-to-month              Yes   \n",
       "432                    No  Month-to-month               No   \n",
       "...                   ...             ...              ...   \n",
       "3772                  Yes  Month-to-month              Yes   \n",
       "5191                  Yes        Two year              Yes   \n",
       "5226  No internet service  Month-to-month              Yes   \n",
       "5390                  Yes  Month-to-month              Yes   \n",
       "860   No internet service        One year               No   \n",
       "\n",
       "                  PaymentMethod  MonthlyCharges  TotalCharges Churn  \n",
       "1869    Credit card (automatic)           24.10       1734.65    No  \n",
       "4528    Credit card (automatic)           88.15       3973.20    No  \n",
       "6344  Bank transfer (automatic)           74.95       2869.85   Yes  \n",
       "6739           Electronic check           55.90        238.50    No  \n",
       "432            Electronic check           53.45        119.50    No  \n",
       "...                         ...             ...           ...   ...  \n",
       "3772           Electronic check           95.00         95.00   Yes  \n",
       "5191    Credit card (automatic)           91.10       2198.30    No  \n",
       "5226           Electronic check           21.15        306.05    No  \n",
       "5390           Electronic check           99.45       1200.15   Yes  \n",
       "860     Credit card (automatic)           19.80        457.30    No  \n",
       "\n",
       "[5986 rows x 20 columns]"
      ]
     },
     "execution_count": 146,
     "metadata": {},
     "output_type": "execute_result"
    }
   ],
   "source": [
    "source_df"
   ]
  },
  {
   "cell_type": "markdown",
   "metadata": {},
   "source": [
    "### Выводы для категориальных признаков: \n",
    "     1)gender – пол клиента (male/female)\n",
    "         Как видим отток клиентов не зависит от пола\n",
    "     2)SeniorCitizen – яляется ли клиент пенсионером (1, 0)\n",
    "         Пенсионеры реже отказываются от услуг компании\n",
    "     3)Partner – состоит ли клиент в браке (Yes, No)\n",
    "         От семейного положения разница не велика\n",
    "     4)Dependents – есть ли у клиента иждивенцы (Yes, No)\n",
    "         Процент оттока клиентов если есть на попечении иждевенцы ниже\n",
    "     5)PhoneService – подключена ли услуга телефонной связи (Yes, No)\n",
    "         Процентный отток клиентов примерно одинаков от того подключена услуга связи или нет\n",
    "     6)MultipleLines – подключены ли несколько телефонных линий (Yes, No, No phone service)\n",
    "         Если подключены несколько телефонных линий процекнт оттока клиентов ниже чем если не подключены несколько телефонных линий\n",
    "     7)InternetService – интернет-провайдер клиента (DSL, Fiber optic, No)\n",
    "         Самый низкий отток клиентов если они не пользуются интернетом, так же следует заметить что процент оттока клиентов те кто испольтзуют оптоволокно выше чем у тех кто использует DSL\n",
    "     8, 9, 10, 11)OnlineSecurity – подключена ли услуга онлайн-безопасности (Yes, No, No internet service)\n",
    "     OnlineBackup – подключена ли услуга online backup (Yes, No, No internet service)\n",
    "     DeviceProtection – есть ли у клиента страховка оборудования (Yes, No, No internet service)\n",
    "     TechSupport – подключена ли услуга технической поддержки (Yes, No, No internet service)\n",
    "         Во всех допольнительных сервисах ситуация похожая. Процент оттока выше у тех пользователей кто не пользуются допольнительными опциями предоставляемыми компанией\n",
    "     12, 13)StreamingTV – подключена ли услуга стримингового телевидения (Yes, No, No internet service)\n",
    "     StreamingMovies – подключена ли услуга стримингового кинотеатра (Yes, No, No internet service)\n",
    "             В этих категориях довольно похожий процент оттока внезависимости от того пользуется ли клиент стриминговыми сервисами или нет\n",
    "     14)Contract – тип контракта клиента (Month-to-month, One year, Two year)\n",
    "         Наибольший процент оттока у тех кто пользуются интернетом с помесячной оплатой\n",
    "     15)PaperlessBilling – пользуется ли клиент безбумажным биллингом (Yes, No)\n",
    "         Те кто пользуются безбумажным билингом чаще прекращают пользоваться услугами компании\n",
    "     16)PaymentMethod – метод оплаты (Electronic check, Mailed check, Bank transfer (automatic), Credit card (automatic))\n",
    "     Саммый большой процент оттока у тех кто оплачивает услуги онлайн, те кто оплачивает автоматически процент оттока наиболее низкий"
   ]
  },
  {
   "cell_type": "code",
   "execution_count": 149,
   "metadata": {},
   "outputs": [
    {
     "data": {
      "text/plain": [
       "<AxesSubplot:title={'center':'Some info'}>"
      ]
     },
     "execution_count": 149,
     "metadata": {},
     "output_type": "execute_result"
    },
    {
     "data": {
      "image/png": "[encoded data removed]",
      "text/plain": [
       "<Figure size 648x648 with 2 Axes>"
      ]
     },
     "metadata": {
      "needs_background": "light"
     },
     "output_type": "display_data"
    }
   ],
   "source": [
    "# Посмтроим корреляционную матрицу для числовых признаков\n",
    "plt.figure(figsize=(9,9))\n",
    "plt.title('Some info', y=1.05, size=15)\n",
    "sns.heatmap(source_df.corr(), linewidths=0.1,vmax=1.0, \n",
    "            square=True, cmap=\"RdYlBu_r\", linecolor='white', annot=True)"
   ]
  },
  {
   "cell_type": "markdown",
   "metadata": {},
   "source": [
    "### Выводы для числовых признаков:\n",
    "    Заметна высокая корреляция между tenure(кол-во месяцев человек явлется клиентом компании) и TotalCharges(сколько всего заплатил за все время), так же между TotalCharges и MontlyCharges(месячный размер оплаты на данный момент)\n",
    "    P.S. Что логично что эти переменные связаны между собой даже исходя из названия =)"
   ]
  },
  {
   "cell_type": "markdown",
   "metadata": {},
   "source": [
    "# 3. Построение моделей для прогнозирования оттока"
   ]
  },
  {
   "cell_type": "code",
   "execution_count": 152,
   "metadata": {},
   "outputs": [],
   "source": [
    "from sklearn.metrics import f1_score\n",
    "from sklearn.metrics import roc_auc_score"
   ]
  },
  {
   "cell_type": "code",
   "execution_count": 150,
   "metadata": {},
   "outputs": [],
   "source": [
    "# Так как в данной задаче бинарной классификации количество клиентов ушедших и оставшихся не одинаковое, \n",
    "# следовательно нам будет необходимо использовать метрики качества такие как f1 score и roc_auc"
   ]
  },
  {
   "cell_type": "code",
   "execution_count": 154,
   "metadata": {},
   "outputs": [],
   "source": [
    "def compreasion_models(model, X_test, y_test):\n",
    "    \"\"\"\n",
    "    Функция для наглядного сравнения моделей \n",
    "    по метрикам roc-auc и f1 score\n",
    "    model: модель для сравнения\n",
    "    X_test (DataFrame)\n",
    "    y_test (DataFrame)\n",
    "    \"\"\"\n",
    "    metrics = {}\n",
    "    metric['f1_score'] = f1_score(y_test, model.predict(X_test))\n",
    "    if hasattr(model,'predict_proba'):\n",
    "        metrics['ROC_AUC'] = roc_auc_score(y_test, model.predict_proba(X_test)[:,1])\n",
    "    else:\n",
    "        metrics['ROC_AUC'] = roc_auc_score(y_test, model.predict(X_test))\n",
    "    return pd.DataFrame(metrics, index=[model])"
   ]
  },
  {
   "cell_type": "code",
   "execution_count": null,
   "metadata": {},
   "outputs": [],
   "source": []
  },
  {
   "cell_type": "code",
   "execution_count": null,
   "metadata": {},
   "outputs": [],
   "source": []
  },
  {
   "cell_type": "code",
   "execution_count": null,
   "metadata": {},
   "outputs": [],
   "source": []
  },
  {
   "cell_type": "code",
   "execution_count": null,
   "metadata": {
    "colab": {
     "base_uri": "https://localhost:8080/",
     "height": 226
    },
    "id": "xilSnHlWmnif",
    "outputId": "7af12c7f-fc03-4ac0-9f6e-5e00c984a675"
   },
   "outputs": [
    {
     "data": {
      "text/html": [
       "<div>\n",
       "<style scoped>\n",
       "    .dataframe tbody tr th:only-of-type {\n",
       "        vertical-align: middle;\n",
       "    }\n",
       "\n",
       "    .dataframe tbody tr th {\n",
       "        vertical-align: top;\n",
       "    }\n",
       "\n",
       "    .dataframe thead th {\n",
       "        text-align: right;\n",
       "    }\n",
       "</style>\n",
       "<table border=\"1\" class=\"dataframe\">\n",
       "  <thead>\n",
       "    <tr style=\"text-align: right;\">\n",
       "      <th></th>\n",
       "      <th>gender</th>\n",
       "      <th>SeniorCitizen</th>\n",
       "      <th>Partner</th>\n",
       "      <th>Dependents</th>\n",
       "      <th>tenure</th>\n",
       "      <th>PhoneService</th>\n",
       "      <th>MultipleLines</th>\n",
       "      <th>InternetService</th>\n",
       "      <th>OnlineSecurity</th>\n",
       "      <th>OnlineBackup</th>\n",
       "      <th>DeviceProtection</th>\n",
       "      <th>TechSupport</th>\n",
       "      <th>StreamingTV</th>\n",
       "      <th>StreamingMovies</th>\n",
       "      <th>Contract</th>\n",
       "      <th>PaperlessBilling</th>\n",
       "      <th>PaymentMethod</th>\n",
       "      <th>MonthlyCharges</th>\n",
       "      <th>TotalCharges</th>\n",
       "      <th>Churn</th>\n",
       "    </tr>\n",
       "  </thead>\n",
       "  <tbody>\n",
       "    <tr>\n",
       "      <th>1869</th>\n",
       "      <td>0</td>\n",
       "      <td>0</td>\n",
       "      <td>1</td>\n",
       "      <td>1</td>\n",
       "      <td>72</td>\n",
       "      <td>1</td>\n",
       "      <td>2</td>\n",
       "      <td>0</td>\n",
       "      <td>0</td>\n",
       "      <td>0</td>\n",
       "      <td>0</td>\n",
       "      <td>0</td>\n",
       "      <td>0</td>\n",
       "      <td>0</td>\n",
       "      <td>2</td>\n",
       "      <td>0</td>\n",
       "      <td>2</td>\n",
       "      <td>24.1</td>\n",
       "      <td>1734.65</td>\n",
       "      <td>0</td>\n",
       "    </tr>\n",
       "    <tr>\n",
       "      <th>4528</th>\n",
       "      <td>1</td>\n",
       "      <td>0</td>\n",
       "      <td>0</td>\n",
       "      <td>0</td>\n",
       "      <td>44</td>\n",
       "      <td>1</td>\n",
       "      <td>1</td>\n",
       "      <td>1</td>\n",
       "      <td>1</td>\n",
       "      <td>2</td>\n",
       "      <td>2</td>\n",
       "      <td>1</td>\n",
       "      <td>2</td>\n",
       "      <td>1</td>\n",
       "      <td>0</td>\n",
       "      <td>1</td>\n",
       "      <td>2</td>\n",
       "      <td>88.15</td>\n",
       "      <td>3973.20</td>\n",
       "      <td>0</td>\n",
       "    </tr>\n",
       "    <tr>\n",
       "      <th>6344</th>\n",
       "      <td>1</td>\n",
       "      <td>1</td>\n",
       "      <td>1</td>\n",
       "      <td>0</td>\n",
       "      <td>38</td>\n",
       "      <td>1</td>\n",
       "      <td>2</td>\n",
       "      <td>1</td>\n",
       "      <td>1</td>\n",
       "      <td>1</td>\n",
       "      <td>1</td>\n",
       "      <td>1</td>\n",
       "      <td>1</td>\n",
       "      <td>1</td>\n",
       "      <td>0</td>\n",
       "      <td>1</td>\n",
       "      <td>3</td>\n",
       "      <td>74.95</td>\n",
       "      <td>2869.85</td>\n",
       "      <td>1</td>\n",
       "    </tr>\n",
       "    <tr>\n",
       "      <th>6739</th>\n",
       "      <td>0</td>\n",
       "      <td>0</td>\n",
       "      <td>0</td>\n",
       "      <td>0</td>\n",
       "      <td>4</td>\n",
       "      <td>1</td>\n",
       "      <td>1</td>\n",
       "      <td>2</td>\n",
       "      <td>1</td>\n",
       "      <td>1</td>\n",
       "      <td>1</td>\n",
       "      <td>1</td>\n",
       "      <td>1</td>\n",
       "      <td>2</td>\n",
       "      <td>0</td>\n",
       "      <td>1</td>\n",
       "      <td>1</td>\n",
       "      <td>55.9</td>\n",
       "      <td>238.50</td>\n",
       "      <td>0</td>\n",
       "    </tr>\n",
       "    <tr>\n",
       "      <th>432</th>\n",
       "      <td>0</td>\n",
       "      <td>0</td>\n",
       "      <td>0</td>\n",
       "      <td>0</td>\n",
       "      <td>2</td>\n",
       "      <td>1</td>\n",
       "      <td>1</td>\n",
       "      <td>2</td>\n",
       "      <td>2</td>\n",
       "      <td>1</td>\n",
       "      <td>2</td>\n",
       "      <td>1</td>\n",
       "      <td>1</td>\n",
       "      <td>1</td>\n",
       "      <td>0</td>\n",
       "      <td>0</td>\n",
       "      <td>1</td>\n",
       "      <td>53.45</td>\n",
       "      <td>119.50</td>\n",
       "      <td>0</td>\n",
       "    </tr>\n",
       "  </tbody>\n",
       "</table>\n",
       "</div>"
      ],
      "text/plain": [
       "      gender  SeniorCitizen  Partner  ...  MonthlyCharges  TotalCharges  Churn\n",
       "1869       0              0        1  ...            24.1       1734.65      0\n",
       "4528       1              0        0  ...           88.15       3973.20      0\n",
       "6344       1              1        1  ...           74.95       2869.85      1\n",
       "6739       0              0        0  ...            55.9        238.50      0\n",
       "432        0              0        0  ...           53.45        119.50      0\n",
       "\n",
       "[5 rows x 20 columns]"
      ]
     },
     "execution_count": 3,
     "metadata": {
      "tags": []
     },
     "output_type": "execute_result"
    }
   ],
   "source": [
    "data_opt = deepcopy(data)\n",
    "\n",
    "data_opt.gender.replace({'Male':0, 'Female':1}, inplace=True)\n",
    "data_opt.Partner.replace({'No':0, 'Yes':1}, inplace=True)\n",
    "data_opt.Dependents.replace({'No':0, 'Yes':1}, inplace=True)\n",
    "data_opt.PhoneService.replace({'No':0, 'Yes':1}, inplace=True)\n",
    "data_opt.MultipleLines.replace({'No':1, 'Yes':2, 'No phone service': 0}, inplace=True)\n",
    "data_opt.InternetService.replace({'No':0, 'Fiber optic':1, 'DSL': 2}, inplace=True)\n",
    "data_opt.OnlineSecurity.replace({'No':1, 'Yes':2, 'No internet service': 0}, inplace=True)\n",
    "data_opt.OnlineBackup.replace({'No':1, 'Yes':2, 'No internet service': 0}, inplace=True)\n",
    "data_opt.DeviceProtection.replace({'No':1, 'Yes':2, 'No internet service': 0}, inplace=True)\n",
    "data_opt.TechSupport.replace({'No':1, 'Yes':2, 'No internet service': 0}, inplace=True)\n",
    "data_opt.StreamingTV.replace({'No':1, 'Yes':2, 'No internet service': 0}, inplace=True)\n",
    "data_opt.StreamingMovies.replace({'No':1, 'Yes':2, 'No internet service': 0}, inplace=True)\n",
    "data_opt.Contract.replace({'One year':1, 'Two year':2, 'Month-to-month': 0}, inplace=True)\n",
    "data_opt.PaperlessBilling.replace({'No':0, 'Yes':1}, inplace=True)\n",
    "data_opt.PaymentMethod.replace({'Electronic check':1, 'Credit card (automatic)':2, 'Mailed check': 0, 'Bank transfer (automatic)':3}, inplace=True)\n",
    "data_opt.Churn.replace({'No':0, 'Yes':1}, inplace=True)\n",
    "data_opt.MonthlyCharges.astype('float64')\n",
    "\n",
    "# data_opt.TotalCharges.replace({data_opt.TotalCharges < 450})\n",
    "\n",
    "data_opt['TotalCharges'].replace(' ', np.nan, inplace=True)\n",
    "data_opt.dropna(subset=['TotalCharges'], inplace=True)\n",
    "data_opt.TotalCharges = data_opt.TotalCharges.astype('float64')\n",
    "data_opt.drop(['customerID'], axis=1, inplace=True)\n",
    "data_opt.head()"
   ]
  },
  {
   "cell_type": "code",
   "execution_count": null,
   "metadata": {
    "id": "lMm8j4OSBsPQ"
   },
   "outputs": [],
   "source": [
    "data_opt.loc[ data_opt['TotalCharges'] <= 450, 'TotalCharges'] = 0\n",
    "data_opt.loc[(data_opt['TotalCharges'] > 450) & (data_opt['TotalCharges'] <= 1420), 'TotalCharges'] = 1\n",
    "data_opt.loc[(data_opt['TotalCharges'] > 1420) & (data_opt['TotalCharges'] <= 3850), 'TotalCharges']   = 2\n",
    "data_opt.loc[ data_opt['TotalCharges'] > 3850, 'TotalCharges'] = 3\n",
    "data_opt['TotalCharges'] = data_opt['TotalCharges'].astype(int)"
   ]
  },
  {
   "cell_type": "code",
   "execution_count": null,
   "metadata": {
    "id": "ltQDsjrQsZKS"
   },
   "outputs": [],
   "source": [
    "from sklearn.preprocessing import MinMaxScaler\n",
    "scaler = MinMaxScaler()\n",
    "data_opt[['tenure']] = scaler.fit_transform(data_opt[['tenure']])"
   ]
  },
  {
   "cell_type": "code",
   "execution_count": null,
   "metadata": {
    "colab": {
     "base_uri": "https://localhost:8080/"
    },
    "id": "NC0Y8lrIEBZf",
    "outputId": "b449d412-06a6-4bb4-aeca-de337e393167"
   },
   "outputs": [
    {
     "data": {
      "text/plain": [
       "count    5976.000000\n",
       "mean       64.846687\n",
       "std        30.107576\n",
       "min        18.250000\n",
       "25%        35.750000\n",
       "50%        70.425000\n",
       "75%        89.900000\n",
       "max       118.750000\n",
       "Name: MonthlyCharges, dtype: float64"
      ]
     },
     "execution_count": 38,
     "metadata": {
      "tags": []
     },
     "output_type": "execute_result"
    }
   ],
   "source": [
    "data_opt.MonthlyCharges = data_opt.MonthlyCharges.astype('float')\n",
    "data_opt.MonthlyCharges.describe()"
   ]
  },
  {
   "cell_type": "code",
   "execution_count": null,
   "metadata": {
    "id": "eYRytB82EUaK"
   },
   "outputs": [],
   "source": [
    "    data_opt.loc[ data_opt['MonthlyCharges'] <= 30, 'MonthlyCharges'] = 0\n",
    "    data_opt.loc[(data_opt['MonthlyCharges'] > 30) & (data_opt['MonthlyCharges'] <= 70), 'MonthlyCharges'] = 1\n",
    "    data_opt.loc[(data_opt['MonthlyCharges'] > 70) & (data_opt['MonthlyCharges'] <= 90), 'MonthlyCharges']   = 2\n",
    "    data_opt.loc[ data_opt['MonthlyCharges'] > 90, 'MonthlyCharges'] = 3\n",
    "    data_opt['MonthlyCharges'] = data_opt['MonthlyCharges'].astype(int)"
   ]
  },
  {
   "cell_type": "code",
   "execution_count": null,
   "metadata": {
    "colab": {
     "base_uri": "https://localhost:8080/",
     "height": 1000
    },
    "id": "AspK-eLcn4Kn",
    "outputId": "207d1316-4e49-4450-d599-a7cc4c555a14"
   },
   "outputs": [
    {
     "data": {
      "text/plain": [
       "<matplotlib.axes._subplots.AxesSubplot at 0x7f6937742350>"
      ]
     },
     "execution_count": 6,
     "metadata": {
      "tags": []
     },
     "output_type": "execute_result"
    },
    {
     "data": {
      "image/png": "[encoded data removed]",
      "text/plain": [
       "<Figure size 1440x1296 with 2 Axes>"
      ]
     },
     "metadata": {
      "needs_background": "light",
      "tags": []
     },
     "output_type": "display_data"
    }
   ],
   "source": [
    "plt.figure(figsize=(20,18))\n",
    "plt.title('Some info', y=1.05, size=15)\n",
    "sns.heatmap(data_opt.corr(), linewidths=0.1,vmax=1.0, \n",
    "            square=True, cmap=\"RdYlBu_r\", linecolor='white', annot=True)"
   ]
  },
  {
   "cell_type": "markdown",
   "metadata": {
    "id": "Uzc5eGmkN2eQ"
   },
   "source": [
    "Наибольшую корреляцию можно наблюдать между Churn и Contract, Churn и tenure"
   ]
  },
  {
   "cell_type": "markdown",
   "metadata": {
    "id": "YnZrI40dVYSZ"
   },
   "source": [
    "# 3. Построение моделей для прогнозирования оттока"
   ]
  },
  {
   "cell_type": "code",
   "execution_count": null,
   "metadata": {
    "id": "wwrrkx8pVYSa"
   },
   "outputs": [],
   "source": [
    "### YOUR CODE HERE ###\n",
    "from sklearn.model_selection import train_test_split\n",
    "from sklearn.model_selection import cross_val_score\n",
    "from sklearn.linear_model import LogisticRegression\n",
    "from sklearn.neighbors import KNeighborsClassifier\n",
    "from sklearn.model_selection import GridSearchCV\n",
    "from sklearn.metrics import roc_auc_score\n",
    "from sklearn.metrics import accuracy_score, log_loss\n",
    "from sklearn.svm import SVC\n",
    "from sklearn.tree import DecisionTreeClassifier\n",
    "from sklearn.ensemble import RandomForestClassifier, AdaBoostClassifier, GradientBoostingClassifier\n",
    "from sklearn.naive_bayes import GaussianNB"
   ]
  },
  {
   "cell_type": "code",
   "execution_count": null,
   "metadata": {
    "id": "RaWtpw4xBaZv"
   },
   "outputs": [],
   "source": [
    "Y = np.array(data_opt['Churn'])\n",
    "X = data_opt.drop(['Churn'], axis=1)"
   ]
  },
  {
   "cell_type": "code",
   "execution_count": null,
   "metadata": {
    "id": "7wGcFY2aASvG"
   },
   "outputs": [],
   "source": [
    "X_train, X_test, y_train, y_test = train_test_split(X, Y, test_size=0.2, random_state=42)"
   ]
  },
  {
   "cell_type": "code",
   "execution_count": null,
   "metadata": {
    "colab": {
     "base_uri": "https://localhost:8080/"
    },
    "id": "K0gSqcZMASxi",
    "outputId": "8ba85f6e-6bf8-4124-dfa6-318e1873dcab"
   },
   "outputs": [
    {
     "name": "stdout",
     "output_type": "stream",
     "text": [
      "Best parameters set found on development set:\n",
      "\n",
      "{'C': 0.8500000000000001, 'penalty': 'l2'}\n",
      "0.7552940334811847\n"
     ]
    }
   ],
   "source": [
    "log_reg = LogisticRegression(random_state=42, max_iter=1000)\n",
    "parameters = {\"C\": np.arange(0, 5, 0.05), \"penalty\" : ['l2', 'l1']}\n",
    "log_reg = GridSearchCV(log_reg, parameters, n_jobs=-1, cv=5)\n",
    "fit_log_reg = log_reg.fit(X_train, y_train)\n",
    "\n",
    "print(\"Best parameters set found on development set:\")\n",
    "print()\n",
    "print(fit_log_reg.best_params_)\n",
    "\n",
    "# pred_log_reg = fit_log_reg.predict_proba(X_test)\n",
    "# pred_log_reg = pred_log_reg[:, 1]\n",
    "# # calculate AUC\n",
    "# auc = roc_auc_score(pred_log_reg, probs)\n",
    "# print(auc)"
   ]
  },
  {
   "cell_type": "code",
   "execution_count": null,
   "metadata": {
    "colab": {
     "base_uri": "https://localhost:8080/"
    },
    "id": "LzOftNYYrJ4b",
    "outputId": "dd694bf9-67be-41fc-9ed2-527d4f5a1f92"
   },
   "outputs": [
    {
     "name": "stdout",
     "output_type": "stream",
     "text": [
      "0.8354271812275206\n"
     ]
    }
   ],
   "source": [
    "pred_log_reg = fit_log_reg.predict_proba(X_test)\n",
    "pred_log_reg = pred_log_reg[:, 1]\n",
    "# calculate AUC\n",
    "auc = roc_auc_score(y_test, pred_log_reg)\n",
    "print(auc)"
   ]
  },
  {
   "cell_type": "code",
   "execution_count": null,
   "metadata": {
    "id": "uLBameO9D0b7"
   },
   "outputs": [],
   "source": []
  },
  {
   "cell_type": "code",
   "execution_count": null,
   "metadata": {
    "colab": {
     "base_uri": "https://localhost:8080/"
    },
    "id": "mBVCfzRdASzy",
    "outputId": "9edf85b2-5cda-4b2a-f5c0-43c7f4d8dad5"
   },
   "outputs": [
    {
     "name": "stdout",
     "output_type": "stream",
     "text": [
      "GridSearchCV(cv=5, error_score=nan,\n",
      "             estimator=RandomForestClassifier(bootstrap=True, ccp_alpha=0.0,\n",
      "                                              class_weight=None,\n",
      "                                              criterion='gini', max_depth=None,\n",
      "                                              max_features='auto',\n",
      "                                              max_leaf_nodes=None,\n",
      "                                              max_samples=None,\n",
      "                                              min_impurity_decrease=0.0,\n",
      "                                              min_impurity_split=None,\n",
      "                                              min_samples_leaf=1,\n",
      "                                              min_samples_split=2,\n",
      "                                              min_weight_fraction_leaf=0.0,\n",
      "                                              n_estimators=100, n_jobs=-1,\n",
      "                                              oob_score=False, random_state=42,\n",
      "                                              verbose=0, warm_start=False),\n",
      "             iid='deprecated', n_jobs=-1,\n",
      "             param_grid={'min_samples_leaf': range(1, 5),\n",
      "                         'n_estimators': range(10, 300, 10)},\n",
      "             pre_dispatch='2*n_jobs', refit=True, return_train_score=False,\n",
      "             scoring=None, verbose=0)\n",
      "Best parameters set found on development set:\n",
      "\n",
      "{'min_samples_leaf': 4, 'n_estimators': 280}\n",
      "0.7533973919011667\n"
     ]
    }
   ],
   "source": [
    "RFC = RandomForestClassifier(n_jobs=-1, random_state=42)\n",
    "parameters = {'n_estimators': range(10, 300, 10), 'min_samples_leaf': range(1, 5)}\n",
    "clf_rfc = GridSearchCV(RFC, parameters, n_jobs=-1, cv=5)\n",
    "RFC_fit = clf_rfc.fit(X_train, y_train)\n",
    "print(RFC_fit)\n",
    "\n",
    "print(\"Best parameters set found on development set:\")\n",
    "print()\n",
    "# print(RFC_fit.best_params_)\n",
    "# RFC_pred = RFC_fit.predict(X_test)\n",
    "\n",
    "# print(roc_auc_score(RFC_pred, y_test))"
   ]
  },
  {
   "cell_type": "code",
   "execution_count": null,
   "metadata": {
    "colab": {
     "base_uri": "https://localhost:8080/"
    },
    "id": "Grv0CrVvrUo_",
    "outputId": "5da06cb5-d9b0-479a-f20e-71bb2af46f55"
   },
   "outputs": [
    {
     "name": "stdout",
     "output_type": "stream",
     "text": [
      "0.8426713510848126\n"
     ]
    }
   ],
   "source": [
    "pred_rfc = RFC_fit.predict_proba(X_test)\n",
    "pred_rfc = pred_rfc[:, 1]\n",
    "# calculate AUC\n",
    "auc = roc_auc_score(y_test, pred_rfc)\n",
    "print(auc)"
   ]
  },
  {
   "cell_type": "code",
   "execution_count": null,
   "metadata": {
    "colab": {
     "base_uri": "https://localhost:8080/"
    },
    "id": "1nNIMOibK5TQ",
    "outputId": "c107fc38-75dc-44b5-9b65-1b4e2029cda0"
   },
   "outputs": [
    {
     "name": "stdout",
     "output_type": "stream",
     "text": [
      "{'C': 2.5, 'kernel': 'rbf'}\n",
      "GridSearchCV(cv=5, error_score=nan,\n",
      "             estimator=SVC(C=1.0, break_ties=False, cache_size=200,\n",
      "                           class_weight=None, coef0=0.0,\n",
      "                           decision_function_shape='ovr', degree=3,\n",
      "                           gamma='scale', kernel='rbf', max_iter=-1,\n",
      "                           probability=False, random_state=None, shrinking=True,\n",
      "                           tol=0.001, verbose=False),\n",
      "             iid='deprecated', n_jobs=-1,\n",
      "             param_grid={'C': array([ 1. ,  1.5,  2. ,  2.5,  3. ,  3.5,  4. ,  4.5,  5. ,  5.5,  6. ,\n",
      "        6.5,  7. ,  7.5,  8. ,  8.5,  9. ,  9.5, 10. , 10.5, 11. , 11.5,\n",
      "       12. , 12.5, 13. , 13.5, 14. , 14.5, 15. , 15.5, 16. , 16.5, 17. ,\n",
      "       17.5, 18. , 18.5, 19. , 19.5]),\n",
      "                         'kernel': ['linear', 'rbf']},\n",
      "             pre_dispatch='2*n_jobs', refit=True, return_train_score=False,\n",
      "             scoring=None, verbose=0)\n",
      "0.7651486471960105\n"
     ]
    }
   ],
   "source": [
    "SVC_model = SVC(gamma='scale')\n",
    "parameters = {'C': np.arange(1, 20, 0.5), 'kernel': ['linear', 'rbf']}\n",
    "clf = GridSearchCV(SVC_model, parameters, n_jobs=-1, cv=5)\n",
    "SVC_fit = clf.fit(X_train, y_train)\n",
    "print(SVC_fit.best_params_)\n",
    "\n",
    "print(SVC_fit)\n",
    "SVC_pred = SVC_fit.predict(X_test)\n",
    "print(roc_auc_score(SVC_pred, y_test))"
   ]
  },
  {
   "cell_type": "code",
   "execution_count": null,
   "metadata": {
    "colab": {
     "base_uri": "https://localhost:8080/"
    },
    "id": "jZ5k3AVfrkne",
    "outputId": "e88d806d-58a6-425f-e95d-360bf05fea7f"
   },
   "outputs": [
    {
     "name": "stdout",
     "output_type": "stream",
     "text": [
      "0.803870808678501\n"
     ]
    }
   ],
   "source": [
    "SVC_model = SVC(gamma='scale', probability=True, C=2.5, kernel='rbf')\n",
    "SVC_fit = SVC_model.fit(X_train, y_train)\n",
    "pred_svc = SVC_fit.predict_proba(X_test)\n",
    "pred_svc = pred_svc[:, 1]\n",
    "# calculate AUC\n",
    "auc = roc_auc_score(y_test, pred_svc)\n",
    "print(auc)"
   ]
  },
  {
   "cell_type": "code",
   "execution_count": null,
   "metadata": {
    "colab": {
     "base_uri": "https://localhost:8080/"
    },
    "id": "oLOuKE-jXQb5",
    "outputId": "80894912-a7ae-477e-8791-1332a9a83e47"
   },
   "outputs": [
    {
     "name": "stdout",
     "output_type": "stream",
     "text": [
      "GaussianNB(priors=None, var_smoothing=1e-09)\n",
      "0.8270082811231001\n"
     ]
    }
   ],
   "source": [
    "gauss = GaussianNB()\n",
    "gauss_fit = gauss.fit(X_train, y_train)\n",
    "\n",
    "print(gauss_fit)\n",
    "gauss_pred = gauss_fit.predict_proba(X_test)\n",
    "gauss_pred = gauss_pred[:, 1]\n",
    "auc = roc_auc_score(y_test, gauss_pred)\n",
    "print(auc)"
   ]
  },
  {
   "cell_type": "code",
   "execution_count": null,
   "metadata": {
    "colab": {
     "base_uri": "https://localhost:8080/"
    },
    "id": "O0oyISe3ZV5A",
    "outputId": "308c51b2-1884-4c79-c236-0e29aca04e2b"
   },
   "outputs": [
    {
     "name": "stdout",
     "output_type": "stream",
     "text": [
      "{}\n",
      "GridSearchCV(cv=5, error_score=nan,\n",
      "             estimator=KNeighborsClassifier(algorithm='auto', leaf_size=30,\n",
      "                                            metric='minkowski',\n",
      "                                            metric_params=None, n_jobs=None,\n",
      "                                            n_neighbors=2, p=2,\n",
      "                                            weights='uniform'),\n",
      "             iid='deprecated', n_jobs=-1, param_grid={},\n",
      "             pre_dispatch='2*n_jobs', refit=True, return_train_score=False,\n",
      "             scoring=None, verbose=0)\n",
      "0.6668056327589402\n"
     ]
    }
   ],
   "source": [
    "knn = KNeighborsClassifier(n_neighbors=2)\n",
    "parameters = {}\n",
    "clf = GridSearchCV(knn, parameters, n_jobs=-1, cv=5)\n",
    "knn_fit = clf.fit(X_train, y_train)\n",
    "print(knn_fit.best_params_)\n",
    "\n",
    "print(knn_fit)\n",
    "knn_pred = knn_fit.predict(X_test)\n",
    "print(roc_auc_score(knn_pred, y_test))"
   ]
  },
  {
   "cell_type": "code",
   "execution_count": null,
   "metadata": {
    "colab": {
     "base_uri": "https://localhost:8080/"
    },
    "id": "EZv9jI44sx0h",
    "outputId": "e82f8fef-7e82-4569-d2ac-b31479f31bb7"
   },
   "outputs": [
    {
     "name": "stdout",
     "output_type": "stream",
     "text": [
      "0.7227056503074604\n"
     ]
    }
   ],
   "source": [
    "knn_pred = knn_fit.predict_proba(X_test)\n",
    "knn_pred = knn_pred[:, 1]\n",
    "auc = roc_auc_score(y_test, knn_pred)\n",
    "print(auc)"
   ]
  },
  {
   "cell_type": "code",
   "execution_count": null,
   "metadata": {
    "colab": {
     "base_uri": "https://localhost:8080/"
    },
    "id": "B8wUWXaYtANK",
    "outputId": "1819ceb9-8171-4170-c952-1269c1bf22a3"
   },
   "outputs": [
    {
     "name": "stdout",
     "output_type": "stream",
     "text": [
      "2 0.7227056503074604\n",
      "3 0.7558029498781762\n",
      "4 0.7756772827474185\n",
      "5 0.7800698311869126\n",
      "6 0.7832477665622462\n",
      "7 0.7841741356305836\n",
      "8 0.7889818279382759\n",
      "9 0.7931532080287735\n",
      "10 0.8011950342267085\n",
      "11 0.807066872607031\n",
      "12 0.8129060795916\n",
      "13 0.8148512733495765\n",
      "14 0.8168490399118227\n",
      "15 0.8160586349924586\n",
      "16 0.8191513661677688\n",
      "17 0.8201828808446455\n",
      "18 0.8246479434969254\n",
      "19 0.8245826807054184\n",
      "20 0.8281467542638357\n",
      "21 0.8275358220211162\n",
      "22 0.8251319758672699\n",
      "23 0.8251791101055805\n",
      "24 0.8257646623738253\n",
      "25 0.8280724271957303\n",
      "26 0.827272957999768\n",
      "27 0.8275865819700661\n",
      "28 0.827688101867966\n",
      "29 0.8265605058591483\n",
      "30 0.8273400336465948\n",
      "31 0.8272185723401787\n",
      "32 0.8272965251189233\n",
      "33 0.8281395028425571\n",
      "34 0.8283642969021928\n",
      "35 0.8280996200255251\n",
      "36 0.8288175107321035\n",
      "37 0.8283787997447499\n",
      "38 0.8286126580809838\n",
      "39 0.8293087945237267\n",
      "40 0.8283280397957998\n",
      "41 0.8305524132730016\n",
      "42 0.8302043450516302\n",
      "43 0.8305433489964033\n",
      "44 0.8299487324515605\n",
      "45 0.829560781413157\n",
      "46 0.8287522479405964\n",
      "47 0.8289571005917159\n",
      "48 0.8284114311405035\n",
      "49 0.828819323587423\n"
     ]
    }
   ],
   "source": [
    "for k in range(2, 50):\n",
    "  knn = KNeighborsClassifier(n_neighbors=k)\n",
    "  knn_fit = knn.fit(X_train, y_train)\n",
    "  knn_pred = knn_fit.predict_proba(X_test)\n",
    "  knn_pred = knn_pred[:, 1]\n",
    "  auc = roc_auc_score(y_test, knn_pred)\n",
    "  print(k, auc)"
   ]
  },
  {
   "cell_type": "markdown",
   "metadata": {
    "id": "uyDpeHkTVYSf"
   },
   "source": [
    "# 4. Сравнение качества моделей "
   ]
  },
  {
   "cell_type": "code",
   "execution_count": null,
   "metadata": {
    "id": "mryxTDJoVYSh"
   },
   "outputs": [],
   "source": [
    "### YOUR CODE HERE ###\n",
    "\n",
    "\n"
   ]
  },
  {
   "cell_type": "code",
   "execution_count": null,
   "metadata": {
    "id": "b4Nq-2rZMCZO"
   },
   "outputs": [],
   "source": [
    "classifiers123 = [\n",
    "    KNeighborsClassifier(n_neighbors=2),\n",
    "    SVC(C=2.5, kernel='rbf', probability=True),\n",
    "    NuSVC(probability=True),\n",
    "    DecisionTreeClassifier(),\n",
    "    RandomForestClassifier(min_samples_leaf=4, n_estimators=280),\n",
    "    GaussianNB(),\n",
    "    ]"
   ]
  },
  {
   "cell_type": "code",
   "execution_count": null,
   "metadata": {
    "colab": {
     "base_uri": "https://localhost:8080/"
    },
    "id": "AC1y8WycMh0L",
    "outputId": "9fb7a2ed-d53d-4c11-d971-fafe96c3b009"
   },
   "outputs": [
    {
     "name": "stdout",
     "output_type": "stream",
     "text": [
      "==============================\n",
      "KNeighborsClassifier\n",
      "****Results****\n",
      "roc auc score: 0.6044494720965309\n",
      "==============================\n",
      "SVC\n",
      "****Results****\n",
      "roc auc score: 0.7056938159879337\n",
      "==============================\n",
      "NuSVC\n",
      "****Results****\n",
      "roc auc score: 0.677790346907994\n",
      "==============================\n",
      "DecisionTreeClassifier\n",
      "****Results****\n",
      "roc auc score: 0.6594079939668175\n",
      "==============================\n",
      "RandomForestClassifier\n",
      "****Results****\n",
      "roc auc score: 0.6989064856711916\n",
      "==============================\n",
      "AdaBoostClassifier\n",
      "****Results****\n",
      "roc auc score: 0.7174773755656109\n",
      "==============================\n",
      "GradientBoostingClassifier\n",
      "****Results****\n",
      "roc auc score: 0.7127639517345399\n",
      "==============================\n",
      "GaussianNB\n",
      "****Results****\n",
      "roc auc score: 0.7491515837104072\n",
      "==============================\n",
      "LinearDiscriminantAnalysis\n",
      "****Results****\n",
      "roc auc score: 0.6973981900452488\n",
      "==============================\n",
      "QuadraticDiscriminantAnalysis\n",
      "****Results****\n",
      "roc auc score: 0.7586726998491705\n",
      "==============================\n",
      "LogisticRegression\n",
      "****Results****\n",
      "roc auc score: 0.7070135746606335\n",
      "==============================\n"
     ]
    }
   ],
   "source": [
    "log_cols=[\"Classifier\", \"roc_auc_score\"]\n",
    "log = pd.DataFrame(columns=log_cols)\n",
    "\n",
    "for clf in classifiers:\n",
    "    clf.fit(X_train, y_train)\n",
    "    name = clf.__class__.__name__\n",
    "    \n",
    "    print(\"=\"*30)\n",
    "    print(name)\n",
    "    \n",
    "    print('****Results****')\n",
    "    \n",
    "    train_predictions = clf.predict(X_test)\n",
    "    ll = roc_auc_score(y_test, train_predictions)\n",
    "    print(\"roc auc score: {}\".format(ll))\n",
    "    \n",
    "    log_entry = pd.DataFrame([[name, ll]], columns=log_cols)\n",
    "    log = log.append(log_entry)\n",
    "    \n",
    "print(\"=\"*30)"
   ]
  },
  {
   "cell_type": "code",
   "execution_count": null,
   "metadata": {
    "colab": {
     "base_uri": "https://localhost:8080/",
     "height": 294
    },
    "id": "uORTUXZZPGwc",
    "outputId": "95ad0d9a-4d31-41c1-a1b4-262e15fa7538"
   },
   "outputs": [
    {
     "data": {
      "image/png": "[encoded data removed]",
      "text/plain": [
       "<Figure size 432x288 with 1 Axes>"
      ]
     },
     "metadata": {
      "needs_background": "light",
      "tags": []
     },
     "output_type": "display_data"
    }
   ],
   "source": [
    "sns.set_color_codes(\"muted\")\n",
    "sns.barplot(x='roc_auc_score', y='Classifier', data=log, color=\"g\")\n",
    "\n",
    "plt.xlabel('Log Loss')\n",
    "plt.title('Classifier Log Loss')\n",
    "plt.show()"
   ]
  },
  {
   "cell_type": "code",
   "execution_count": null,
   "metadata": {
    "colab": {
     "base_uri": "https://localhost:8080/"
    },
    "id": "rCq3dTFtQCAt",
    "outputId": "dc9c1652-f6d7-4add-fe93-3d3e5c4449a4"
   },
   "outputs": [
    {
     "data": {
      "text/plain": [
       "0.7216457532705982"
      ]
     },
     "execution_count": 93,
     "metadata": {
      "tags": []
     },
     "output_type": "execute_result"
    }
   ],
   "source": [
    "roc_auc_score(test_predictions, y_test)"
   ]
  },
  {
   "cell_type": "code",
   "execution_count": null,
   "metadata": {
    "colab": {
     "base_uri": "https://localhost:8080/"
    },
    "id": "ce2CGiXgR9JH",
    "outputId": "ac9f4506-4a75-46db-a293-0fa0bf0b2825"
   },
   "outputs": [
    {
     "data": {
      "text/plain": [
       "dict_keys(['explained_variance', 'r2', 'max_error', 'neg_median_absolute_error', 'neg_mean_absolute_error', 'neg_mean_squared_error', 'neg_mean_squared_log_error', 'neg_root_mean_squared_error', 'neg_mean_poisson_deviance', 'neg_mean_gamma_deviance', 'accuracy', 'roc_auc', 'roc_auc_ovr', 'roc_auc_ovo', 'roc_auc_ovr_weighted', 'roc_auc_ovo_weighted', 'balanced_accuracy', 'average_precision', 'neg_log_loss', 'neg_brier_score', 'adjusted_rand_score', 'homogeneity_score', 'completeness_score', 'v_measure_score', 'mutual_info_score', 'adjusted_mutual_info_score', 'normalized_mutual_info_score', 'fowlkes_mallows_score', 'precision', 'precision_macro', 'precision_micro', 'precision_samples', 'precision_weighted', 'recall', 'recall_macro', 'recall_micro', 'recall_samples', 'recall_weighted', 'f1', 'f1_macro', 'f1_micro', 'f1_samples', 'f1_weighted', 'jaccard', 'jaccard_macro', 'jaccard_micro', 'jaccard_samples', 'jaccard_weighted'])"
      ]
     },
     "execution_count": 99,
     "metadata": {
      "tags": []
     },
     "output_type": "execute_result"
    }
   ],
   "source": [
    "import sklearn\n",
    "sklearn.metrics.SCORERS.keys()"
   ]
  },
  {
   "cell_type": "code",
   "execution_count": null,
   "metadata": {
    "id": "C0f32bi0SGIK"
   },
   "outputs": [],
   "source": [
    "level0 = []\n",
    "level0.append(('knn', KNeighborsClassifier(n_neighbors=2)))\n",
    "level0.append(('cart', DecisionTreeClassifier()))\n",
    "level0.append(('svm', SVC(C=2.5, kernel='rbf', probability=True)))\n",
    "level0.append(('bayes', GaussianNB()))\n",
    "level0.append(('rfc', RandomForestClassifier(min_samples_leaf=4, n_estimators=280)))\n",
    "level0.append(('nusvc', NuSVC(probability=True)))\n",
    "level0.append(('dtc', DecisionTreeClassifier()))\n",
    "level0.append(('abc', AdaBoostClassifier()))\n",
    "level0.append(('gbc', GradientBoostingClassifier()))\n",
    "level0.append(('lda', LinearDiscriminantAnalysis()))\n",
    "level0.append(('qda', QuadraticDiscriminantAnalysis()))\n",
    "\n",
    "level1 = LogisticRegression(C=0.8500000000000001, penalty='l2')\n",
    "model = StackingClassifier(estimators=level0, final_estimator=level1, cv=5)"
   ]
  },
  {
   "cell_type": "code",
   "execution_count": null,
   "metadata": {
    "id": "w5bg2XxySoyY"
   },
   "outputs": [],
   "source": [
    "def evaluate_model(model, X, y):\n",
    "\tcv = RepeatedStratifiedKFold(n_splits=10, n_repeats=3, random_state=1)\n",
    "\tscores = cross_val_score(model, X_train, y_train, scoring='accuracy', cv=cv, n_jobs=-1, error_score='raise')\n",
    "\treturn scores"
   ]
  },
  {
   "cell_type": "code",
   "execution_count": null,
   "metadata": {
    "colab": {
     "base_uri": "https://localhost:8080/"
    },
    "id": "5LYeHVXFeWuL",
    "outputId": "e278d92f-cc42-46f9-efd0-516c831ac3b6"
   },
   "outputs": [
    {
     "data": {
      "text/plain": [
       "{'abc': AdaBoostClassifier(algorithm='SAMME.R', base_estimator=None, learning_rate=1.0,\n",
       "                    n_estimators=50, random_state=None),\n",
       " 'bayes': GaussianNB(priors=None, var_smoothing=1e-09),\n",
       " 'cart': DecisionTreeClassifier(ccp_alpha=0.0, class_weight=None, criterion='gini',\n",
       "                        max_depth=None, max_features=None, max_leaf_nodes=None,\n",
       "                        min_impurity_decrease=0.0, min_impurity_split=None,\n",
       "                        min_samples_leaf=1, min_samples_split=2,\n",
       "                        min_weight_fraction_leaf=0.0, presort='deprecated',\n",
       "                        random_state=None, splitter='best'),\n",
       " 'dtc': DecisionTreeClassifier(ccp_alpha=0.0, class_weight=None, criterion='gini',\n",
       "                        max_depth=None, max_features=None, max_leaf_nodes=None,\n",
       "                        min_impurity_decrease=0.0, min_impurity_split=None,\n",
       "                        min_samples_leaf=1, min_samples_split=2,\n",
       "                        min_weight_fraction_leaf=0.0, presort='deprecated',\n",
       "                        random_state=None, splitter='best'),\n",
       " 'gbc': GradientBoostingClassifier(ccp_alpha=0.0, criterion='friedman_mse', init=None,\n",
       "                            learning_rate=0.1, loss='deviance', max_depth=3,\n",
       "                            max_features=None, max_leaf_nodes=None,\n",
       "                            min_impurity_decrease=0.0, min_impurity_split=None,\n",
       "                            min_samples_leaf=1, min_samples_split=2,\n",
       "                            min_weight_fraction_leaf=0.0, n_estimators=100,\n",
       "                            n_iter_no_change=None, presort='deprecated',\n",
       "                            random_state=None, subsample=1.0, tol=0.0001,\n",
       "                            validation_fraction=0.1, verbose=0,\n",
       "                            warm_start=False),\n",
       " 'knn': KNeighborsClassifier(algorithm='auto', leaf_size=30, metric='minkowski',\n",
       "                      metric_params=None, n_jobs=None, n_neighbors=2, p=2,\n",
       "                      weights='uniform'),\n",
       " 'lda': LinearDiscriminantAnalysis(n_components=None, priors=None, shrinkage=None,\n",
       "                            solver='svd', store_covariance=False, tol=0.0001),\n",
       " 'lr': LogisticRegression(C=0.8500000000000001, class_weight=None, dual=False,\n",
       "                    fit_intercept=True, intercept_scaling=1, l1_ratio=None,\n",
       "                    max_iter=100, multi_class='auto', n_jobs=None, penalty='l2',\n",
       "                    random_state=None, solver='lbfgs', tol=0.0001, verbose=0,\n",
       "                    warm_start=False),\n",
       " 'nusvc': NuSVC(break_ties=False, cache_size=200, class_weight=None, coef0=0.0,\n",
       "       decision_function_shape='ovr', degree=3, gamma='scale', kernel='rbf',\n",
       "       max_iter=-1, nu=0.5, probability=True, random_state=None, shrinking=True,\n",
       "       tol=0.001, verbose=False),\n",
       " 'qda': QuadraticDiscriminantAnalysis(priors=None, reg_param=0.0,\n",
       "                               store_covariance=False, tol=0.0001),\n",
       " 'rfc': RandomForestClassifier(bootstrap=True, ccp_alpha=0.0, class_weight=None,\n",
       "                        criterion='gini', max_depth=None, max_features='auto',\n",
       "                        max_leaf_nodes=None, max_samples=None,\n",
       "                        min_impurity_decrease=0.0, min_impurity_split=None,\n",
       "                        min_samples_leaf=4, min_samples_split=2,\n",
       "                        min_weight_fraction_leaf=0.0, n_estimators=280,\n",
       "                        n_jobs=None, oob_score=False, random_state=None,\n",
       "                        verbose=0, warm_start=False),\n",
       " 'stacking': StackingClassifier(cv=5,\n",
       "                    estimators=[('lr',\n",
       "                                 LogisticRegression(C=1.0, class_weight=None,\n",
       "                                                    dual=False,\n",
       "                                                    fit_intercept=True,\n",
       "                                                    intercept_scaling=1,\n",
       "                                                    l1_ratio=None, max_iter=100,\n",
       "                                                    multi_class='auto',\n",
       "                                                    n_jobs=None, penalty='l2',\n",
       "                                                    random_state=None,\n",
       "                                                    solver='lbfgs', tol=0.0001,\n",
       "                                                    verbose=0,\n",
       "                                                    warm_start=False)),\n",
       "                                ('knn',\n",
       "                                 KNeighborsClassifier(algorithm='auto',\n",
       "                                                      leaf_size=30,\n",
       "                                                      metric='minko...\n",
       "                                 GaussianNB(priors=None, var_smoothing=1e-09))],\n",
       "                    final_estimator=LogisticRegression(C=1.0, class_weight=None,\n",
       "                                                       dual=False,\n",
       "                                                       fit_intercept=True,\n",
       "                                                       intercept_scaling=1,\n",
       "                                                       l1_ratio=None,\n",
       "                                                       max_iter=100,\n",
       "                                                       multi_class='auto',\n",
       "                                                       n_jobs=None, penalty='l2',\n",
       "                                                       random_state=None,\n",
       "                                                       solver='lbfgs',\n",
       "                                                       tol=0.0001, verbose=0,\n",
       "                                                       warm_start=False),\n",
       "                    n_jobs=None, passthrough=False, stack_method='auto',\n",
       "                    verbose=0),\n",
       " 'svm': SVC(C=2.5, break_ties=False, cache_size=200, class_weight=None, coef0=0.0,\n",
       "     decision_function_shape='ovr', degree=3, gamma='scale', kernel='rbf',\n",
       "     max_iter=-1, probability=True, random_state=None, shrinking=True, tol=0.001,\n",
       "     verbose=False)}"
      ]
     },
     "execution_count": 175,
     "metadata": {
      "tags": []
     },
     "output_type": "execute_result"
    }
   ],
   "source": [
    "\n",
    "models = dict()\n",
    "models['lr'] = LogisticRegression(C=0.8500000000000001, penalty='l2')\n",
    "models['knn'] = KNeighborsClassifier(n_neighbors=2)\n",
    "models['cart'] = DecisionTreeClassifier()\n",
    "models['svm'] = SVC(C=2.5, kernel='rbf', probability=True)\n",
    "models['bayes'] = GaussianNB()\n",
    "models['rfc'] = RandomForestClassifier(min_samples_leaf=4, n_estimators=280)\n",
    "models['nusvc'] = NuSVC(probability=True)\n",
    "models['dtc'] = DecisionTreeClassifier()\n",
    "models['abc'] = AdaBoostClassifier()\n",
    "models['gbc'] = GradientBoostingClassifier()\n",
    "models['lda'] = LinearDiscriminantAnalysis()\n",
    "models['qda'] = QuadraticDiscriminantAnalysis()\n",
    "models['stacking'] = model\n",
    "models"
   ]
  },
  {
   "cell_type": "code",
   "execution_count": null,
   "metadata": {
    "colab": {
     "base_uri": "https://localhost:8080/"
    },
    "id": "3Hav5drJT9pW",
    "outputId": "8eee7333-26c7-4dd6-b4e9-c0eaea355b6c"
   },
   "outputs": [
    {
     "name": "stdout",
     "output_type": "stream",
     "text": [
      ">lr 0.787\n",
      ">knn 0.746\n",
      ">cart 0.722\n",
      ">svm 0.793\n",
      ">bayes 0.737\n",
      ">rfc 0.798\n",
      ">nusvc 0.786\n",
      ">dtc 0.720\n",
      ">abc 0.798\n",
      ">gbc 0.797\n",
      ">lda 0.785\n",
      ">qda 0.766\n",
      ">stacking 0.792\n"
     ]
    }
   ],
   "source": [
    "for name, model in models.items():\n",
    "\tscores = evaluate_model(model, X_train, y_train)\n",
    "\tresults.append(scores)\n",
    "\tnames.append(name)\n",
    "\tprint('>%s %.3f' % (name, mean(scores)))"
   ]
  },
  {
   "cell_type": "code",
   "execution_count": null,
   "metadata": {
    "id": "Zvme0RzNU9WU"
   },
   "outputs": [],
   "source": [
    "# Boosting"
   ]
  },
  {
   "cell_type": "code",
   "execution_count": null,
   "metadata": {
    "id": "B6b9UF-LdjvR"
   },
   "outputs": [],
   "source": [
    "level10 = deepcopy(level0)"
   ]
  },
  {
   "cell_type": "code",
   "execution_count": null,
   "metadata": {
    "id": "mzTBoxAkgrc-"
   },
   "outputs": [],
   "source": [
    "model = StackingClassifier(estimators=level10, final_estimator=level1, cv=5)"
   ]
  },
  {
   "cell_type": "code",
   "execution_count": null,
   "metadata": {
    "colab": {
     "base_uri": "https://localhost:8080/"
    },
    "id": "Ncbj493ug7M_",
    "outputId": "45b5eacb-7562-4e27-9ec5-b5e16bdaec01"
   },
   "outputs": [
    {
     "data": {
      "text/plain": [
       "StackingClassifier(cv=5,\n",
       "                   estimators=[('knn',\n",
       "                                KNeighborsClassifier(algorithm='auto',\n",
       "                                                     leaf_size=30,\n",
       "                                                     metric='minkowski',\n",
       "                                                     metric_params=None,\n",
       "                                                     n_jobs=None, n_neighbors=2,\n",
       "                                                     p=2, weights='uniform')),\n",
       "                               ('cart',\n",
       "                                DecisionTreeClassifier(ccp_alpha=0.0,\n",
       "                                                       class_weight=None,\n",
       "                                                       criterion='gini',\n",
       "                                                       max_depth=None,\n",
       "                                                       max_features=None,\n",
       "                                                       max_leaf_nodes=None,\n",
       "                                                       min_impurity_decrease=0.0,\n",
       "                                                       min_impur...\n",
       "                                                              store_covariance=False,\n",
       "                                                              tol=0.0001))],\n",
       "                   final_estimator=LogisticRegression(C=0.8500000000000001,\n",
       "                                                      class_weight=None,\n",
       "                                                      dual=False,\n",
       "                                                      fit_intercept=True,\n",
       "                                                      intercept_scaling=1,\n",
       "                                                      l1_ratio=None,\n",
       "                                                      max_iter=100,\n",
       "                                                      multi_class='auto',\n",
       "                                                      n_jobs=None, penalty='l2',\n",
       "                                                      random_state=None,\n",
       "                                                      solver='lbfgs',\n",
       "                                                      tol=0.0001, verbose=0,\n",
       "                                                      warm_start=False),\n",
       "                   n_jobs=None, passthrough=False, stack_method='auto',\n",
       "                   verbose=0)"
      ]
     },
     "execution_count": 184,
     "metadata": {
      "tags": []
     },
     "output_type": "execute_result"
    }
   ],
   "source": [
    "model"
   ]
  },
  {
   "cell_type": "code",
   "execution_count": null,
   "metadata": {
    "id": "FfDFqWF1g7vg"
   },
   "outputs": [],
   "source": [
    "level123 = []\n",
    "level123.append(('rfc', RandomForestClassifier(min_samples_leaf=4, n_estimators=280)))\n",
    "level123.append(('abc', AdaBoostClassifier()))\n",
    "level123.append(('gbc', GradientBoostingClassifier()))"
   ]
  },
  {
   "cell_type": "code",
   "execution_count": null,
   "metadata": {
    "colab": {
     "base_uri": "https://localhost:8080/"
    },
    "id": "-aPtohlEhRHt",
    "outputId": "1b3b24af-4253-4c14-d6d4-e9fbf796b19a"
   },
   "outputs": [
    {
     "data": {
      "text/plain": [
       "[('rfc',\n",
       "  RandomForestClassifier(bootstrap=True, ccp_alpha=0.0, class_weight=None,\n",
       "                         criterion='gini', max_depth=None, max_features='auto',\n",
       "                         max_leaf_nodes=None, max_samples=None,\n",
       "                         min_impurity_decrease=0.0, min_impurity_split=None,\n",
       "                         min_samples_leaf=4, min_samples_split=2,\n",
       "                         min_weight_fraction_leaf=0.0, n_estimators=280,\n",
       "                         n_jobs=None, oob_score=False, random_state=None,\n",
       "                         verbose=0, warm_start=False)),\n",
       " ('abc',\n",
       "  AdaBoostClassifier(algorithm='SAMME.R', base_estimator=None, learning_rate=1.0,\n",
       "                     n_estimators=50, random_state=None)),\n",
       " ('gbc',\n",
       "  GradientBoostingClassifier(ccp_alpha=0.0, criterion='friedman_mse', init=None,\n",
       "                             learning_rate=0.1, loss='deviance', max_depth=3,\n",
       "                             max_features=None, max_leaf_nodes=None,\n",
       "                             min_impurity_decrease=0.0, min_impurity_split=None,\n",
       "                             min_samples_leaf=1, min_samples_split=2,\n",
       "                             min_weight_fraction_leaf=0.0, n_estimators=100,\n",
       "                             n_iter_no_change=None, presort='deprecated',\n",
       "                             random_state=None, subsample=1.0, tol=0.0001,\n",
       "                             validation_fraction=0.1, verbose=0,\n",
       "                             warm_start=False))]"
      ]
     },
     "execution_count": 190,
     "metadata": {
      "tags": []
     },
     "output_type": "execute_result"
    }
   ],
   "source": [
    "level123"
   ]
  },
  {
   "cell_type": "code",
   "execution_count": null,
   "metadata": {
    "id": "TyHuDlOmioQx"
   },
   "outputs": [],
   "source": [
    "import xgboost as xgb"
   ]
  },
  {
   "cell_type": "code",
   "execution_count": null,
   "metadata": {
    "id": "Khadtx2GjxR0"
   },
   "outputs": [],
   "source": [
    "data_dmatrix = xgb.DMatrix(data=X_test,label=y_test)"
   ]
  },
  {
   "cell_type": "code",
   "execution_count": null,
   "metadata": {
    "id": "9hji7_Hwj9nn"
   },
   "outputs": [],
   "source": [
    "xg_reg = xgb.XGBClassifier(learning_rate = 0.5,\n",
    "                max_depth = 5, alpha = 10, n_estimators = 100)"
   ]
  },
  {
   "cell_type": "code",
   "execution_count": null,
   "metadata": {
    "id": "N1jBZvUij-Xs"
   },
   "outputs": [],
   "source": [
    "xg_reg.fit(X_train,y_train)\n",
    "\n",
    "preds = xg_reg.predict(X_test)"
   ]
  },
  {
   "cell_type": "code",
   "execution_count": null,
   "metadata": {
    "colab": {
     "base_uri": "https://localhost:8080/"
    },
    "id": "Fmb3M811kNRA",
    "outputId": "e6e1a5af-74a9-48bc-fd10-7f182d5faf7c"
   },
   "outputs": [
    {
     "data": {
      "text/plain": [
       "0.7130733116648611"
      ]
     },
     "execution_count": 229,
     "metadata": {
      "tags": []
     },
     "output_type": "execute_result"
    }
   ],
   "source": [
    "roc_auc_score(preds, y_test)"
   ]
  },
  {
   "cell_type": "code",
   "execution_count": null,
   "metadata": {
    "colab": {
     "base_uri": "https://localhost:8080/",
     "height": 1000
    },
    "id": "sz_5mQX5kSLI",
    "outputId": "7bfad027-4ac6-49a5-e236-003856b3d170"
   },
   "outputs": [
    {
     "name": "stdout",
     "output_type": "stream",
     "text": [
      "0.7483237174489319\n",
      "0.7506113100978097\n",
      "0.7609088717454195\n",
      "0.7584708783911971\n",
      "0.7598900634249472\n",
      "0.7559497459895865\n",
      "0.756499335106383\n",
      "0.7551269460432697\n",
      "0.755741536852085\n",
      "0.7548757020475271\n",
      "0.7450192226072696\n",
      "0.748611111111111\n",
      "0.7491584120495238\n",
      "0.7456221198156682\n",
      "0.7448337328661873\n",
      "0.7444926332002513\n",
      "0.7419257951242326\n",
      "0.7439250889955116\n",
      "0.7483237174489319\n",
      "0.7506113100978097\n",
      "0.7609088717454195\n",
      "0.7584708783911971\n",
      "0.7598900634249472\n",
      "0.7559497459895865\n",
      "0.756499335106383\n",
      "0.7551269460432697\n",
      "0.755741536852085\n",
      "0.7548757020475271\n",
      "0.7450192226072696\n",
      "0.748611111111111\n",
      "0.7491584120495238\n",
      "0.7456221198156682\n",
      "0.7448337328661873\n",
      "0.7444926332002513\n",
      "0.7419257951242326\n",
      "0.7439250889955116\n",
      "0.7483237174489319\n",
      "0.7506113100978097\n",
      "0.7609088717454195\n",
      "0.7584708783911971\n",
      "0.7598900634249472\n",
      "0.7559497459895865\n",
      "0.756499335106383\n",
      "0.7551269460432697\n",
      "0.755741536852085\n",
      "0.7548757020475271\n",
      "0.7450192226072696\n",
      "0.748611111111111\n",
      "0.7491584120495238\n",
      "0.7456221198156682\n",
      "0.7448337328661873\n",
      "0.7444926332002513\n",
      "0.7419257951242326\n",
      "0.7439250889955116\n",
      "0.7483237174489319\n",
      "0.7506113100978097\n",
      "0.7609088717454195\n",
      "0.7584708783911971\n",
      "0.7598900634249472\n",
      "0.7559497459895865\n",
      "0.756499335106383\n",
      "0.7551269460432697\n",
      "0.755741536852085\n",
      "0.7548757020475271\n",
      "0.7450192226072696\n",
      "0.748611111111111\n",
      "0.7491584120495238\n",
      "0.7456221198156682\n",
      "0.7448337328661873\n",
      "0.7444926332002513\n",
      "0.7419257951242326\n",
      "0.7439250889955116\n",
      "0.7483237174489319\n",
      "0.7506113100978097\n",
      "0.7609088717454195\n",
      "0.7584708783911971\n",
      "0.7598900634249472\n",
      "0.7559497459895865\n",
      "0.756499335106383\n",
      "0.7551269460432697\n",
      "0.755741536852085\n",
      "0.7548757020475271\n",
      "0.7450192226072696\n",
      "0.748611111111111\n",
      "0.7491584120495238\n",
      "0.7456221198156682\n",
      "0.7448337328661873\n",
      "0.7444926332002513\n",
      "0.7419257951242326\n",
      "0.7439250889955116\n",
      "0.7483237174489319\n",
      "0.7506113100978097\n",
      "0.7609088717454195\n",
      "0.7584708783911971\n",
      "0.7598900634249472\n",
      "0.7559497459895865\n",
      "0.756499335106383\n",
      "0.7551269460432697\n",
      "0.755741536852085\n",
      "0.7548757020475271\n",
      "0.7450192226072696\n",
      "0.748611111111111\n",
      "0.7491584120495238\n",
      "0.7456221198156682\n",
      "0.7448337328661873\n",
      "0.7444926332002513\n",
      "0.7419257951242326\n",
      "0.7439250889955116\n",
      "0.7483237174489319\n",
      "0.7506113100978097\n",
      "0.7609088717454195\n",
      "0.7584708783911971\n",
      "0.7598900634249472\n",
      "0.7559497459895865\n",
      "0.756499335106383\n",
      "0.7551269460432697\n",
      "0.755741536852085\n",
      "0.7548757020475271\n",
      "0.7450192226072696\n",
      "0.748611111111111\n",
      "0.7491584120495238\n",
      "0.7456221198156682\n",
      "0.7448337328661873\n",
      "0.7444926332002513\n",
      "0.7419257951242326\n",
      "0.7439250889955116\n",
      "0.7483237174489319\n",
      "0.7506113100978097\n",
      "0.7609088717454195\n",
      "0.7584708783911971\n",
      "0.7598900634249472\n",
      "0.7559497459895865\n",
      "0.756499335106383\n",
      "0.7551269460432697\n",
      "0.755741536852085\n",
      "0.7548757020475271\n",
      "0.7450192226072696\n",
      "0.748611111111111\n",
      "0.7491584120495238\n",
      "0.7456221198156682\n",
      "0.7448337328661873\n",
      "0.7444926332002513\n",
      "0.7419257951242326\n",
      "0.7439250889955116\n",
      "0.7483237174489319\n",
      "0.7506113100978097\n",
      "0.7609088717454195\n",
      "0.7584708783911971\n",
      "0.7598900634249472\n",
      "0.7559497459895865\n",
      "0.756499335106383\n",
      "0.7551269460432697\n",
      "0.755741536852085\n",
      "0.7548757020475271\n",
      "0.7450192226072696\n",
      "0.748611111111111\n",
      "0.7491584120495238\n",
      "0.7456221198156682\n",
      "0.7448337328661873\n",
      "0.7444926332002513\n",
      "0.7419257951242326\n",
      "0.7439250889955116\n",
      "0.7483237174489319\n",
      "0.7506113100978097\n",
      "0.7609088717454195\n",
      "0.7584708783911971\n",
      "0.7598900634249472\n",
      "0.7559497459895865\n",
      "0.756499335106383\n",
      "0.7551269460432697\n",
      "0.755741536852085\n",
      "0.7548757020475271\n",
      "0.7450192226072696\n",
      "0.748611111111111\n",
      "0.7491584120495238\n",
      "0.7456221198156682\n",
      "0.7448337328661873\n",
      "0.7444926332002513\n",
      "0.7419257951242326\n",
      "0.7439250889955116\n",
      "0.7483237174489319\n",
      "0.7506113100978097\n",
      "0.7609088717454195\n",
      "0.7584708783911971\n",
      "0.7598900634249472\n",
      "0.7559497459895865\n",
      "0.756499335106383\n",
      "0.7551269460432697\n",
      "0.755741536852085\n",
      "0.7548757020475271\n",
      "0.7450192226072696\n",
      "0.748611111111111\n",
      "0.7491584120495238\n",
      "0.7456221198156682\n",
      "0.7448337328661873\n",
      "0.7444926332002513\n",
      "0.7419257951242326\n",
      "0.7439250889955116\n",
      "0.7483237174489319\n",
      "0.7506113100978097\n",
      "0.7609088717454195\n",
      "0.7584708783911971\n",
      "0.7598900634249472\n",
      "0.7559497459895865\n",
      "0.756499335106383\n",
      "0.7551269460432697\n",
      "0.755741536852085\n",
      "0.7548757020475271\n",
      "0.7450192226072696\n",
      "0.748611111111111\n",
      "0.7491584120495238\n",
      "0.7456221198156682\n",
      "0.7448337328661873\n",
      "0.7444926332002513\n",
      "0.7419257951242326\n",
      "0.7439250889955116\n",
      "0.7483237174489319\n",
      "0.7506113100978097\n",
      "0.7609088717454195\n",
      "0.7584708783911971\n",
      "0.7598900634249472\n",
      "0.7559497459895865\n",
      "0.756499335106383\n",
      "0.7551269460432697\n",
      "0.755741536852085\n",
      "0.7548757020475271\n",
      "0.7450192226072696\n",
      "0.748611111111111\n",
      "0.7491584120495238\n",
      "0.7456221198156682\n",
      "0.7448337328661873\n",
      "0.7444926332002513\n",
      "0.7419257951242326\n",
      "0.7439250889955116\n",
      "0.7483237174489319\n",
      "0.7506113100978097\n",
      "0.7609088717454195\n",
      "0.7584708783911971\n",
      "0.7598900634249472\n",
      "0.7559497459895865\n",
      "0.756499335106383\n",
      "0.7551269460432697\n",
      "0.755741536852085\n",
      "0.7548757020475271\n",
      "0.7450192226072696\n",
      "0.748611111111111\n",
      "0.7491584120495238\n",
      "0.7456221198156682\n",
      "0.7448337328661873\n",
      "0.7444926332002513\n",
      "0.7419257951242326\n",
      "0.7439250889955116\n",
      "0.7483237174489319\n",
      "0.7506113100978097\n",
      "0.7609088717454195\n",
      "0.7584708783911971\n",
      "0.7598900634249472\n",
      "0.7559497459895865\n",
      "0.756499335106383\n",
      "0.7551269460432697\n",
      "0.755741536852085\n",
      "0.7548757020475271\n",
      "0.7450192226072696\n",
      "0.748611111111111\n",
      "0.7491584120495238\n",
      "0.7456221198156682\n",
      "0.7448337328661873\n",
      "0.7444926332002513\n",
      "0.7419257951242326\n",
      "0.7439250889955116\n",
      "0.7377808994584022\n",
      "0.7486397543712338\n",
      "0.750405284324144\n",
      "0.7553895522077055\n",
      "0.7532978079997384\n",
      "0.7399327965250887\n",
      "0.7359527851887784\n",
      "0.7262287699433865\n",
      "0.7237900967922566\n",
      "0.7250053135388971\n",
      "0.7249685848209834\n",
      "0.7249393798689573\n",
      "0.7130147616125888\n",
      "0.7130733116648611\n",
      "0.7118665648077414\n",
      "0.7106552308766332\n",
      "0.7084592026335328\n",
      "0.7039632071252164\n",
      "0.7377808994584022\n",
      "0.7486397543712338\n",
      "0.750405284324144\n",
      "0.7553895522077055\n",
      "0.7532978079997384\n",
      "0.7399327965250887\n",
      "0.7359527851887784\n",
      "0.7262287699433865\n",
      "0.7237900967922566\n",
      "0.7250053135388971\n",
      "0.7249685848209834\n",
      "0.7249393798689573\n",
      "0.7130147616125888\n",
      "0.7130733116648611\n",
      "0.7118665648077414\n",
      "0.7106552308766332\n",
      "0.7084592026335328\n",
      "0.7039632071252164\n",
      "0.7377808994584022\n",
      "0.7486397543712338\n",
      "0.750405284324144\n",
      "0.7553895522077055\n",
      "0.7532978079997384\n",
      "0.7399327965250887\n",
      "0.7359527851887784\n",
      "0.7262287699433865\n",
      "0.7237900967922566\n",
      "0.7250053135388971\n",
      "0.7249685848209834\n",
      "0.7249393798689573\n",
      "0.7130147616125888\n",
      "0.7130733116648611\n",
      "0.7118665648077414\n",
      "0.7106552308766332\n",
      "0.7084592026335328\n",
      "0.7039632071252164\n",
      "0.7377808994584022\n",
      "0.7486397543712338\n",
      "0.750405284324144\n",
      "0.7553895522077055\n",
      "0.7532978079997384\n",
      "0.7399327965250887\n",
      "0.7359527851887784\n",
      "0.7262287699433865\n",
      "0.7237900967922566\n",
      "0.7250053135388971\n",
      "0.7249685848209834\n",
      "0.7249393798689573\n",
      "0.7130147616125888\n",
      "0.7130733116648611\n",
      "0.7118665648077414\n",
      "0.7106552308766332\n",
      "0.7084592026335328\n",
      "0.7039632071252164\n",
      "0.7377808994584022\n",
      "0.7486397543712338\n",
      "0.750405284324144\n",
      "0.7553895522077055\n",
      "0.7532978079997384\n",
      "0.7399327965250887\n",
      "0.7359527851887784\n",
      "0.7262287699433865\n",
      "0.7237900967922566\n",
      "0.7250053135388971\n",
      "0.7249685848209834\n",
      "0.7249393798689573\n",
      "0.7130147616125888\n",
      "0.7130733116648611\n",
      "0.7118665648077414\n",
      "0.7106552308766332\n",
      "0.7084592026335328\n",
      "0.7039632071252164\n",
      "0.7377808994584022\n",
      "0.7486397543712338\n",
      "0.750405284324144\n",
      "0.7553895522077055\n",
      "0.7532978079997384\n",
      "0.7399327965250887\n",
      "0.7359527851887784\n",
      "0.7262287699433865\n",
      "0.7237900967922566\n",
      "0.7250053135388971\n",
      "0.7249685848209834\n",
      "0.7249393798689573\n",
      "0.7130147616125888\n",
      "0.7130733116648611\n",
      "0.7118665648077414\n",
      "0.7106552308766332\n",
      "0.7084592026335328\n",
      "0.7039632071252164\n",
      "0.7377808994584022\n",
      "0.7486397543712338\n",
      "0.750405284324144\n",
      "0.7553895522077055\n",
      "0.7532978079997384\n",
      "0.7399327965250887\n",
      "0.7359527851887784\n",
      "0.7262287699433865\n",
      "0.7237900967922566\n",
      "0.7250053135388971\n",
      "0.7249685848209834\n",
      "0.7249393798689573\n",
      "0.7130147616125888\n",
      "0.7130733116648611\n",
      "0.7118665648077414\n",
      "0.7106552308766332\n",
      "0.7084592026335328\n",
      "0.7039632071252164\n",
      "0.7377808994584022\n",
      "0.7486397543712338\n",
      "0.750405284324144\n",
      "0.7553895522077055\n",
      "0.7532978079997384\n",
      "0.7399327965250887\n",
      "0.7359527851887784\n",
      "0.7262287699433865\n",
      "0.7237900967922566\n",
      "0.7250053135388971\n",
      "0.7249685848209834\n",
      "0.7249393798689573\n",
      "0.7130147616125888\n",
      "0.7130733116648611\n",
      "0.7118665648077414\n",
      "0.7106552308766332\n",
      "0.7084592026335328\n",
      "0.7039632071252164\n",
      "0.7377808994584022\n",
      "0.7486397543712338\n",
      "0.750405284324144\n",
      "0.7553895522077055\n",
      "0.7532978079997384\n",
      "0.7399327965250887\n",
      "0.7359527851887784\n",
      "0.7262287699433865\n",
      "0.7237900967922566\n",
      "0.7250053135388971\n",
      "0.7249685848209834\n",
      "0.7249393798689573\n",
      "0.7130147616125888\n",
      "0.7130733116648611\n",
      "0.7118665648077414\n",
      "0.7106552308766332\n",
      "0.7084592026335328\n",
      "0.7039632071252164\n",
      "0.7377808994584022\n",
      "0.7486397543712338\n",
      "0.750405284324144\n",
      "0.7553895522077055\n",
      "0.7532978079997384\n",
      "0.7399327965250887\n",
      "0.7359527851887784\n",
      "0.7262287699433865\n",
      "0.7237900967922566\n",
      "0.7250053135388971\n",
      "0.7249685848209834\n",
      "0.7249393798689573\n",
      "0.7130147616125888\n",
      "0.7130733116648611\n",
      "0.7118665648077414\n",
      "0.7106552308766332\n",
      "0.7084592026335328\n",
      "0.7039632071252164\n",
      "0.7377808994584022\n",
      "0.7486397543712338\n",
      "0.750405284324144\n",
      "0.7553895522077055\n",
      "0.7532978079997384\n",
      "0.7399327965250887\n",
      "0.7359527851887784\n",
      "0.7262287699433865\n",
      "0.7237900967922566\n",
      "0.7250053135388971\n",
      "0.7249685848209834\n",
      "0.7249393798689573\n",
      "0.7130147616125888\n",
      "0.7130733116648611\n",
      "0.7118665648077414\n",
      "0.7106552308766332\n",
      "0.7084592026335328\n",
      "0.7039632071252164\n",
      "0.7377808994584022\n",
      "0.7486397543712338\n",
      "0.750405284324144\n",
      "0.7553895522077055\n",
      "0.7532978079997384\n",
      "0.7399327965250887\n",
      "0.7359527851887784\n",
      "0.7262287699433865\n",
      "0.7237900967922566\n",
      "0.7250053135388971\n",
      "0.7249685848209834\n",
      "0.7249393798689573\n",
      "0.7130147616125888\n",
      "0.7130733116648611\n",
      "0.7118665648077414\n",
      "0.7106552308766332\n",
      "0.7084592026335328\n",
      "0.7039632071252164\n",
      "0.7377808994584022\n",
      "0.7486397543712338\n",
      "0.750405284324144\n",
      "0.7553895522077055\n",
      "0.7532978079997384\n",
      "0.7399327965250887\n",
      "0.7359527851887784\n",
      "0.7262287699433865\n",
      "0.7237900967922566\n",
      "0.7250053135388971\n",
      "0.7249685848209834\n",
      "0.7249393798689573\n",
      "0.7130147616125888\n",
      "0.7130733116648611\n",
      "0.7118665648077414\n",
      "0.7106552308766332\n",
      "0.7084592026335328\n",
      "0.7039632071252164\n",
      "0.7377808994584022\n",
      "0.7486397543712338\n",
      "0.750405284324144\n",
      "0.7553895522077055\n",
      "0.7532978079997384\n",
      "0.7399327965250887\n",
      "0.7359527851887784\n",
      "0.7262287699433865\n",
      "0.7237900967922566\n",
      "0.7250053135388971\n",
      "0.7249685848209834\n",
      "0.7249393798689573\n",
      "0.7130147616125888\n",
      "0.7130733116648611\n",
      "0.7118665648077414\n",
      "0.7106552308766332\n",
      "0.7084592026335328\n",
      "0.7039632071252164\n",
      "0.7377808994584022\n",
      "0.7486397543712338\n",
      "0.750405284324144\n",
      "0.7553895522077055\n",
      "0.7532978079997384\n",
      "0.7399327965250887\n",
      "0.7359527851887784\n",
      "0.7262287699433865\n",
      "0.7237900967922566\n",
      "0.7250053135388971\n",
      "0.7249685848209834\n",
      "0.7249393798689573\n",
      "0.7130147616125888\n",
      "0.7130733116648611\n",
      "0.7118665648077414\n",
      "0.7106552308766332\n",
      "0.7084592026335328\n",
      "0.7039632071252164\n",
      "0.7449554239825779\n",
      "0.7421902748414376\n",
      "0.7427369127683644\n",
      "0.7461538461538462\n",
      "0.7391786617138729\n",
      "0.7334421641791045\n",
      "0.7311181178753335\n",
      "0.7261427298192004\n",
      "0.7201929525873189\n",
      "0.7166666666666667\n",
      "0.7108083264260713\n",
      "0.7108715110438824\n",
      "0.7144026824703681\n",
      "0.7119084187025984\n",
      "0.7048070681001313\n",
      "0.7039632071252164\n",
      "0.709739550842171\n",
      "0.7084592026335328\n",
      "0.7449554239825779\n",
      "0.7421902748414376\n",
      "0.7427369127683644\n",
      "0.7461538461538462\n",
      "0.7391786617138729\n",
      "0.7334421641791045\n",
      "0.7311181178753335\n",
      "0.7261427298192004\n",
      "0.7201929525873189\n",
      "0.7166666666666667\n",
      "0.7108083264260713\n",
      "0.7108715110438824\n",
      "0.7144026824703681\n",
      "0.7119084187025984\n",
      "0.7048070681001313\n",
      "0.7039632071252164\n",
      "0.709739550842171\n",
      "0.7084592026335328\n",
      "0.7449554239825779\n",
      "0.7421902748414376\n",
      "0.7427369127683644\n",
      "0.7461538461538462\n",
      "0.7391786617138729\n",
      "0.7334421641791045\n",
      "0.7311181178753335\n",
      "0.7261427298192004\n",
      "0.7201929525873189\n",
      "0.7166666666666667\n",
      "0.7108083264260713\n",
      "0.7108715110438824\n",
      "0.7144026824703681\n",
      "0.7119084187025984\n",
      "0.7048070681001313\n",
      "0.7039632071252164\n",
      "0.709739550842171\n",
      "0.7084592026335328\n",
      "0.7449554239825779\n",
      "0.7421902748414376\n",
      "0.7427369127683644\n",
      "0.7461538461538462\n",
      "0.7391786617138729\n",
      "0.7334421641791045\n",
      "0.7311181178753335\n",
      "0.7261427298192004\n",
      "0.7201929525873189\n",
      "0.7166666666666667\n",
      "0.7108083264260713\n",
      "0.7108715110438824\n",
      "0.7144026824703681\n",
      "0.7119084187025984\n",
      "0.7048070681001313\n",
      "0.7039632071252164\n",
      "0.709739550842171\n",
      "0.7084592026335328\n",
      "0.7449554239825779\n",
      "0.7421902748414376\n",
      "0.7427369127683644\n",
      "0.7461538461538462\n",
      "0.7391786617138729\n",
      "0.7334421641791045\n",
      "0.7311181178753335\n",
      "0.7261427298192004\n",
      "0.7201929525873189\n",
      "0.7166666666666667\n",
      "0.7108083264260713\n",
      "0.7108715110438824\n",
      "0.7144026824703681\n",
      "0.7119084187025984\n",
      "0.7048070681001313\n",
      "0.7039632071252164\n",
      "0.709739550842171\n",
      "0.7084592026335328\n",
      "0.7449554239825779\n",
      "0.7421902748414376\n",
      "0.7427369127683644\n",
      "0.7461538461538462\n",
      "0.7391786617138729\n",
      "0.7334421641791045\n",
      "0.7311181178753335\n",
      "0.7261427298192004\n",
      "0.7201929525873189\n",
      "0.7166666666666667\n",
      "0.7108083264260713\n",
      "0.7108715110438824\n",
      "0.7144026824703681\n",
      "0.7119084187025984\n",
      "0.7048070681001313\n",
      "0.7039632071252164\n",
      "0.709739550842171\n",
      "0.7084592026335328\n",
      "0.7449554239825779\n",
      "0.7421902748414376\n",
      "0.7427369127683644\n",
      "0.7461538461538462\n",
      "0.7391786617138729\n",
      "0.7334421641791045\n",
      "0.7311181178753335\n",
      "0.7261427298192004\n",
      "0.7201929525873189\n",
      "0.7166666666666667\n",
      "0.7108083264260713\n",
      "0.7108715110438824\n",
      "0.7144026824703681\n",
      "0.7119084187025984\n",
      "0.7048070681001313\n",
      "0.7039632071252164\n",
      "0.709739550842171\n",
      "0.7084592026335328\n",
      "0.7449554239825779\n",
      "0.7421902748414376\n",
      "0.7427369127683644\n",
      "0.7461538461538462\n",
      "0.7391786617138729\n",
      "0.7334421641791045\n",
      "0.7311181178753335\n",
      "0.7261427298192004\n",
      "0.7201929525873189\n",
      "0.7166666666666667\n",
      "0.7108083264260713\n",
      "0.7108715110438824\n",
      "0.7144026824703681\n",
      "0.7119084187025984\n",
      "0.7048070681001313\n",
      "0.7039632071252164\n",
      "0.709739550842171\n",
      "0.7084592026335328\n",
      "0.7449554239825779\n",
      "0.7421902748414376\n",
      "0.7427369127683644\n",
      "0.7461538461538462\n",
      "0.7391786617138729\n",
      "0.7334421641791045\n",
      "0.7311181178753335\n",
      "0.7261427298192004\n",
      "0.7201929525873189\n",
      "0.7166666666666667\n",
      "0.7108083264260713\n",
      "0.7108715110438824\n",
      "0.7144026824703681\n",
      "0.7119084187025984\n",
      "0.7048070681001313\n",
      "0.7039632071252164\n",
      "0.709739550842171\n",
      "0.7084592026335328\n",
      "0.7449554239825779\n",
      "0.7421902748414376\n",
      "0.7427369127683644\n",
      "0.7461538461538462\n",
      "0.7391786617138729\n",
      "0.7334421641791045\n",
      "0.7311181178753335\n",
      "0.7261427298192004\n",
      "0.7201929525873189\n",
      "0.7166666666666667\n",
      "0.7108083264260713\n",
      "0.7108715110438824\n",
      "0.7144026824703681\n",
      "0.7119084187025984\n",
      "0.7048070681001313\n",
      "0.7039632071252164\n",
      "0.709739550842171\n",
      "0.7084592026335328\n",
      "0.7449554239825779\n",
      "0.7421902748414376\n",
      "0.7427369127683644\n",
      "0.7461538461538462\n",
      "0.7391786617138729\n",
      "0.7334421641791045\n",
      "0.7311181178753335\n",
      "0.7261427298192004\n",
      "0.7201929525873189\n",
      "0.7166666666666667\n",
      "0.7108083264260713\n",
      "0.7108715110438824\n",
      "0.7144026824703681\n",
      "0.7119084187025984\n",
      "0.7048070681001313\n",
      "0.7039632071252164\n",
      "0.709739550842171\n",
      "0.7084592026335328\n",
      "0.7449554239825779\n",
      "0.7421902748414376\n",
      "0.7427369127683644\n",
      "0.7461538461538462\n",
      "0.7391786617138729\n",
      "0.7334421641791045\n",
      "0.7311181178753335\n",
      "0.7261427298192004\n",
      "0.7201929525873189\n",
      "0.7166666666666667\n",
      "0.7108083264260713\n",
      "0.7108715110438824\n",
      "0.7144026824703681\n",
      "0.7119084187025984\n",
      "0.7048070681001313\n",
      "0.7039632071252164\n",
      "0.709739550842171\n",
      "0.7084592026335328\n",
      "0.7449554239825779\n",
      "0.7421902748414376\n",
      "0.7427369127683644\n",
      "0.7461538461538462\n",
      "0.7391786617138729\n",
      "0.7334421641791045\n",
      "0.7311181178753335\n",
      "0.7261427298192004\n",
      "0.7201929525873189\n",
      "0.7166666666666667\n",
      "0.7108083264260713\n",
      "0.7108715110438824\n",
      "0.7144026824703681\n",
      "0.7119084187025984\n",
      "0.7048070681001313\n",
      "0.7039632071252164\n",
      "0.709739550842171\n",
      "0.7084592026335328\n",
      "0.7449554239825779\n"
     ]
    },
    {
     "ename": "KeyboardInterrupt",
     "evalue": "ignored",
     "output_type": "error",
     "traceback": [
      "\u001b[0;31m---------------------------------------------------------------------------\u001b[0m",
      "\u001b[0;31mKeyboardInterrupt\u001b[0m                         Traceback (most recent call last)",
      "\u001b[0;32m<ipython-input-232-bff8977e941d>\u001b[0m in \u001b[0;36m<module>\u001b[0;34m()\u001b[0m\n\u001b[1;32m      7\u001b[0m         xg_reg = xgb.XGBClassifier(learning_rate = lr,\n\u001b[1;32m      8\u001b[0m                 max_depth = md, alp = 10, n_estimators = est)\n\u001b[0;32m----> 9\u001b[0;31m         \u001b[0mxg_reg\u001b[0m\u001b[0;34m.\u001b[0m\u001b[0mfit\u001b[0m\u001b[0;34m(\u001b[0m\u001b[0mX_train\u001b[0m\u001b[0;34m,\u001b[0m\u001b[0my_train\u001b[0m\u001b[0;34m)\u001b[0m\u001b[0;34m\u001b[0m\u001b[0;34m\u001b[0m\u001b[0m\n\u001b[0m\u001b[1;32m     10\u001b[0m         \u001b[0mpreds\u001b[0m \u001b[0;34m=\u001b[0m \u001b[0mxg_reg\u001b[0m\u001b[0;34m.\u001b[0m\u001b[0mpredict\u001b[0m\u001b[0;34m(\u001b[0m\u001b[0mX_test\u001b[0m\u001b[0;34m)\u001b[0m\u001b[0;34m\u001b[0m\u001b[0;34m\u001b[0m\u001b[0m\n\u001b[1;32m     11\u001b[0m         \u001b[0mscore\u001b[0m \u001b[0;34m=\u001b[0m \u001b[0mroc_auc_score\u001b[0m\u001b[0;34m(\u001b[0m\u001b[0mpreds\u001b[0m\u001b[0;34m,\u001b[0m \u001b[0my_test\u001b[0m\u001b[0;34m)\u001b[0m\u001b[0;34m\u001b[0m\u001b[0;34m\u001b[0m\u001b[0m\n",
      "\u001b[0;32m/usr/local/lib/python3.7/dist-packages/xgboost/sklearn.py\u001b[0m in \u001b[0;36mfit\u001b[0;34m(self, X, y, sample_weight, eval_set, eval_metric, early_stopping_rounds, verbose, xgb_model, sample_weight_eval_set, callbacks)\u001b[0m\n\u001b[1;32m    730\u001b[0m                               \u001b[0mevals_result\u001b[0m\u001b[0;34m=\u001b[0m\u001b[0mevals_result\u001b[0m\u001b[0;34m,\u001b[0m \u001b[0mobj\u001b[0m\u001b[0;34m=\u001b[0m\u001b[0mobj\u001b[0m\u001b[0;34m,\u001b[0m \u001b[0mfeval\u001b[0m\u001b[0;34m=\u001b[0m\u001b[0mfeval\u001b[0m\u001b[0;34m,\u001b[0m\u001b[0;34m\u001b[0m\u001b[0;34m\u001b[0m\u001b[0m\n\u001b[1;32m    731\u001b[0m                               \u001b[0mverbose_eval\u001b[0m\u001b[0;34m=\u001b[0m\u001b[0mverbose\u001b[0m\u001b[0;34m,\u001b[0m \u001b[0mxgb_model\u001b[0m\u001b[0;34m=\u001b[0m\u001b[0mxgb_model\u001b[0m\u001b[0;34m,\u001b[0m\u001b[0;34m\u001b[0m\u001b[0;34m\u001b[0m\u001b[0m\n\u001b[0;32m--> 732\u001b[0;31m                               callbacks=callbacks)\n\u001b[0m\u001b[1;32m    733\u001b[0m \u001b[0;34m\u001b[0m\u001b[0m\n\u001b[1;32m    734\u001b[0m         \u001b[0mself\u001b[0m\u001b[0;34m.\u001b[0m\u001b[0mobjective\u001b[0m \u001b[0;34m=\u001b[0m \u001b[0mxgb_options\u001b[0m\u001b[0;34m[\u001b[0m\u001b[0;34m\"objective\"\u001b[0m\u001b[0;34m]\u001b[0m\u001b[0;34m\u001b[0m\u001b[0;34m\u001b[0m\u001b[0m\n",
      "\u001b[0;32m/usr/local/lib/python3.7/dist-packages/xgboost/training.py\u001b[0m in \u001b[0;36mtrain\u001b[0;34m(params, dtrain, num_boost_round, evals, obj, feval, maximize, early_stopping_rounds, evals_result, verbose_eval, xgb_model, callbacks, learning_rates)\u001b[0m\n\u001b[1;32m    214\u001b[0m                            \u001b[0mevals\u001b[0m\u001b[0;34m=\u001b[0m\u001b[0mevals\u001b[0m\u001b[0;34m,\u001b[0m\u001b[0;34m\u001b[0m\u001b[0;34m\u001b[0m\u001b[0m\n\u001b[1;32m    215\u001b[0m                            \u001b[0mobj\u001b[0m\u001b[0;34m=\u001b[0m\u001b[0mobj\u001b[0m\u001b[0;34m,\u001b[0m \u001b[0mfeval\u001b[0m\u001b[0;34m=\u001b[0m\u001b[0mfeval\u001b[0m\u001b[0;34m,\u001b[0m\u001b[0;34m\u001b[0m\u001b[0;34m\u001b[0m\u001b[0m\n\u001b[0;32m--> 216\u001b[0;31m                            xgb_model=xgb_model, callbacks=callbacks)\n\u001b[0m\u001b[1;32m    217\u001b[0m \u001b[0;34m\u001b[0m\u001b[0m\n\u001b[1;32m    218\u001b[0m \u001b[0;34m\u001b[0m\u001b[0m\n",
      "\u001b[0;32m/usr/local/lib/python3.7/dist-packages/xgboost/training.py\u001b[0m in \u001b[0;36m_train_internal\u001b[0;34m(params, dtrain, num_boost_round, evals, obj, feval, xgb_model, callbacks)\u001b[0m\n\u001b[1;32m     72\u001b[0m         \u001b[0;31m# Skip the first update if it is a recovery step.\u001b[0m\u001b[0;34m\u001b[0m\u001b[0;34m\u001b[0m\u001b[0;34m\u001b[0m\u001b[0m\n\u001b[1;32m     73\u001b[0m         \u001b[0;32mif\u001b[0m \u001b[0mversion\u001b[0m \u001b[0;34m%\u001b[0m \u001b[0;36m2\u001b[0m \u001b[0;34m==\u001b[0m \u001b[0;36m0\u001b[0m\u001b[0;34m:\u001b[0m\u001b[0;34m\u001b[0m\u001b[0;34m\u001b[0m\u001b[0m\n\u001b[0;32m---> 74\u001b[0;31m             \u001b[0mbst\u001b[0m\u001b[0;34m.\u001b[0m\u001b[0mupdate\u001b[0m\u001b[0;34m(\u001b[0m\u001b[0mdtrain\u001b[0m\u001b[0;34m,\u001b[0m \u001b[0mi\u001b[0m\u001b[0;34m,\u001b[0m \u001b[0mobj\u001b[0m\u001b[0;34m)\u001b[0m\u001b[0;34m\u001b[0m\u001b[0;34m\u001b[0m\u001b[0m\n\u001b[0m\u001b[1;32m     75\u001b[0m             \u001b[0mbst\u001b[0m\u001b[0;34m.\u001b[0m\u001b[0msave_rabit_checkpoint\u001b[0m\u001b[0;34m(\u001b[0m\u001b[0;34m)\u001b[0m\u001b[0;34m\u001b[0m\u001b[0;34m\u001b[0m\u001b[0m\n\u001b[1;32m     76\u001b[0m             \u001b[0mversion\u001b[0m \u001b[0;34m+=\u001b[0m \u001b[0;36m1\u001b[0m\u001b[0;34m\u001b[0m\u001b[0;34m\u001b[0m\u001b[0m\n",
      "\u001b[0;32m/usr/local/lib/python3.7/dist-packages/xgboost/core.py\u001b[0m in \u001b[0;36mupdate\u001b[0;34m(self, dtrain, iteration, fobj)\u001b[0m\n\u001b[1;32m   1107\u001b[0m         \u001b[0;32mif\u001b[0m \u001b[0mfobj\u001b[0m \u001b[0;32mis\u001b[0m \u001b[0;32mNone\u001b[0m\u001b[0;34m:\u001b[0m\u001b[0;34m\u001b[0m\u001b[0;34m\u001b[0m\u001b[0m\n\u001b[1;32m   1108\u001b[0m             _check_call(_LIB.XGBoosterUpdateOneIter(self.handle, ctypes.c_int(iteration),\n\u001b[0;32m-> 1109\u001b[0;31m                                                     dtrain.handle))\n\u001b[0m\u001b[1;32m   1110\u001b[0m         \u001b[0;32melse\u001b[0m\u001b[0;34m:\u001b[0m\u001b[0;34m\u001b[0m\u001b[0;34m\u001b[0m\u001b[0m\n\u001b[1;32m   1111\u001b[0m             \u001b[0mpred\u001b[0m \u001b[0;34m=\u001b[0m \u001b[0mself\u001b[0m\u001b[0;34m.\u001b[0m\u001b[0mpredict\u001b[0m\u001b[0;34m(\u001b[0m\u001b[0mdtrain\u001b[0m\u001b[0;34m)\u001b[0m\u001b[0;34m\u001b[0m\u001b[0;34m\u001b[0m\u001b[0m\n",
      "\u001b[0;31mKeyboardInterrupt\u001b[0m: "
     ]
    }
   ],
   "source": [
    "res = []\n",
    "i = 0\n",
    "for lr in np.arange(0.1, 5.0, 0.1):\n",
    "  for md in np.arange(4, 10, 1):\n",
    "    for alp in range(5, 20, 1):\n",
    "      for est in range(50, 400, 20):\n",
    "        xg_reg = xgb.XGBClassifier(learning_rate = lr,\n",
    "                max_depth = md, alp = 10, n_estimators = est)\n",
    "        xg_reg.fit(X_train,y_train)\n",
    "        preds = xg_reg.predict(X_test)\n",
    "        score = roc_auc_score(preds, y_test)\n",
    "        i+=5\n",
    "        if i % 5 == 0:\n",
    "          print(score)\n",
    "        res.append((lr, md, alp, est, score))\n",
    "\n"
   ]
  },
  {
   "cell_type": "code",
   "execution_count": null,
   "metadata": {
    "colab": {
     "base_uri": "https://localhost:8080/"
    },
    "id": "NG4P2pRylRyB",
    "outputId": "bfdce87b-e49c-4b3e-c8a8-1fa4d4e2a9ea"
   },
   "outputs": [
    {
     "data": {
      "text/plain": [
       "0.7609088717454195"
      ]
     },
     "execution_count": 247,
     "metadata": {
      "tags": []
     },
     "output_type": "execute_result"
    }
   ],
   "source": [
    "max\n"
   ]
  },
  {
   "cell_type": "code",
   "execution_count": null,
   "metadata": {
    "colab": {
     "base_uri": "https://localhost:8080/"
    },
    "id": "DKT8XJVgo_Lo",
    "outputId": "334d13e8-4901-4101-c4b0-f45ee4fd9bd1"
   },
   "outputs": [
    {
     "name": "stdout",
     "output_type": "stream",
     "text": [
      "(0.1, 4, 5, 90, 0.7609088717454195)\n"
     ]
    }
   ],
   "source": [
    "for i in res:\n",
    "  if i[4] == max:\n",
    "    print(i)\n",
    "    break"
   ]
  },
  {
   "cell_type": "code",
   "execution_count": null,
   "metadata": {
    "colab": {
     "base_uri": "https://localhost:8080/",
     "height": 282
    },
    "id": "DD_KSdl-pzjM",
    "outputId": "40ee831c-d173-41fc-c84f-e566858ddc35"
   },
   "outputs": [
    {
     "name": "stdout",
     "output_type": "stream",
     "text": [
      "AUC: 0.933\n"
     ]
    },
    {
     "data": {
      "image/png": "[encoded data removed]",
      "text/plain": [
       "<Figure size 432x288 with 1 Axes>"
      ]
     },
     "metadata": {
      "needs_background": "light",
      "tags": []
     },
     "output_type": "display_data"
    }
   ],
   "source": [
    "# roc curve and auc\n",
    "from sklearn.datasets import make_classification\n",
    "from sklearn.neighbors import KNeighborsClassifier\n",
    "from sklearn.model_selection import train_test_split\n",
    "from sklearn.metrics import roc_curve\n",
    "from sklearn.metrics import roc_auc_score\n",
    "from matplotlib import pyplot\n",
    "# generate 2 class dataset\n",
    "X, y = make_classification(n_samples=1000, n_classes=2, weights=[1,1], random_state=1)\n",
    "# split into train/test sets\n",
    "trainX, testX, trainy, testy = train_test_split(X, y, test_size=0.5, random_state=2)\n",
    "# fit a model\n",
    "model = KNeighborsClassifier(n_neighbors=10)\n",
    "model.fit(trainX, trainy)\n",
    "# predict probabilities\n",
    "probs = model.predict_proba(testX)\n",
    "# keep probabilities for the positive outcome only\n",
    "probs = probs[:, 1]\n",
    "# calculate AUC\n",
    "auc = roc_auc_score(testy, probs)\n",
    "print('AUC: %.3f' % auc)\n",
    "# calculate roc curve\n",
    "fpr, tpr, thresholds = roc_curve(testy, probs)\n",
    "# plot no skill\n",
    "pyplot.plot([0, 1], [0, 1], linestyle='--')\n",
    "# plot the roc curve for the model\n",
    "pyplot.plot(fpr, tpr, marker='.')\n",
    "# show the plot\n",
    "pyplot.show()"
   ]
  },
  {
   "cell_type": "code",
   "execution_count": null,
   "metadata": {
    "id": "ehz4RI_-qxbC"
   },
   "outputs": [],
   "source": []
  }
 ],
 "metadata": {
  "colab": {
   "collapsed_sections": [],
   "name": "Coursework_ML.ipynb",
   "provenance": [],
   "toc_visible": true
  },
  "kernelspec": {
   "display_name": "tf-gpu",
   "language": "python",
   "name": "tf-gpu"
  },
  "language_info": {
   "codemirror_mode": {
    "name": "ipython",
    "version": 3
   },
   "file_extension": ".py",
   "mimetype": "text/x-python",
   "name": "python",
   "nbconvert_exporter": "python",
   "pygments_lexer": "ipython3",
   "version": "3.9.5"
  }
 },
 "nbformat": 4,
 "nbformat_minor": 1
}
